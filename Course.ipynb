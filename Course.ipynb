{
 "cells": [
  {
   "cell_type": "code",
   "execution_count": 2,
   "id": "14b2584c",
   "metadata": {},
   "outputs": [],
   "source": [
    "import torch\n",
    "import pandas\n",
    "import numpy as np\n",
    "import matplotlib.pyplot as plt"
   ]
  },
  {
   "cell_type": "code",
   "execution_count": 3,
   "id": "9519e833",
   "metadata": {},
   "outputs": [
    {
     "name": "stdout",
     "output_type": "stream",
     "text": [
      "2.7.0+cu126\n"
     ]
    }
   ],
   "source": [
    "print(torch.__version__)"
   ]
  },
  {
   "cell_type": "code",
   "execution_count": 4,
   "id": "27e462aa",
   "metadata": {},
   "outputs": [
    {
     "name": "stdout",
     "output_type": "stream",
     "text": [
      "tensor(7)\n"
     ]
    },
    {
     "data": {
      "text/plain": [
       "0"
      ]
     },
     "execution_count": 4,
     "metadata": {},
     "output_type": "execute_result"
    }
   ],
   "source": [
    "scalar = torch.tensor(7)\n",
    "print(scalar)\n",
    "scalar.ndim"
   ]
  },
  {
   "cell_type": "code",
   "execution_count": 5,
   "id": "0d87422f",
   "metadata": {},
   "outputs": [
    {
     "name": "stdout",
     "output_type": "stream",
     "text": [
      "tensor([7, 7, 7])\n"
     ]
    },
    {
     "data": {
      "text/plain": [
       "torch.Size([3])"
      ]
     },
     "execution_count": 5,
     "metadata": {},
     "output_type": "execute_result"
    }
   ],
   "source": [
    "vector = torch.tensor([7,7,7])\n",
    "print(vector)\n",
    "vector.ndim\n",
    "vector.shape"
   ]
  },
  {
   "cell_type": "code",
   "execution_count": 6,
   "id": "9c559e53",
   "metadata": {},
   "outputs": [
    {
     "data": {
      "text/plain": [
       "tensor([[[0.0206, 0.5300, 0.3062, 0.7693],\n",
       "         [0.5189, 0.6824, 0.2451, 0.2126],\n",
       "         [0.1265, 0.5992, 0.4306, 0.0388]],\n",
       "\n",
       "        [[0.7489, 0.9616, 0.9069, 0.9178],\n",
       "         [0.5250, 0.1058, 0.1506, 0.2769],\n",
       "         [0.7802, 0.4349, 0.9836, 0.8979]],\n",
       "\n",
       "        [[0.4931, 0.2786, 0.6984, 0.6268],\n",
       "         [0.1196, 0.6225, 0.5827, 0.7062],\n",
       "         [0.5808, 0.4771, 0.3788, 0.5337]],\n",
       "\n",
       "        [[0.9012, 0.0803, 0.1311, 0.4591],\n",
       "         [0.5282, 0.2819, 0.2052, 0.2041],\n",
       "         [0.8803, 0.1705, 0.9415, 0.1592]],\n",
       "\n",
       "        [[0.5361, 0.1876, 0.9387, 0.5233],\n",
       "         [0.5299, 0.1194, 0.1946, 0.0957],\n",
       "         [0.9059, 0.1888, 0.4890, 0.8755]],\n",
       "\n",
       "        [[0.9206, 0.9628, 0.0782, 0.4791],\n",
       "         [0.2790, 0.5892, 0.2581, 0.6715],\n",
       "         [0.0942, 0.1927, 0.5201, 0.6984]],\n",
       "\n",
       "        [[0.6270, 0.0465, 0.8981, 0.2362],\n",
       "         [0.2591, 0.4711, 0.7336, 0.1690],\n",
       "         [0.7364, 0.4622, 0.2802, 0.7203]],\n",
       "\n",
       "        [[0.0130, 0.5340, 0.3413, 0.4999],\n",
       "         [0.1208, 0.3085, 0.5014, 0.7896],\n",
       "         [0.6716, 0.9016, 0.4412, 0.9533]],\n",
       "\n",
       "        [[0.1845, 0.8579, 0.5588, 0.3574],\n",
       "         [0.4897, 0.2510, 0.0979, 0.9693],\n",
       "         [0.2675, 0.5026, 0.9077, 0.2568]],\n",
       "\n",
       "        [[0.3375, 0.6395, 0.1180, 0.0463],\n",
       "         [0.6206, 0.6777, 0.6686, 0.9641],\n",
       "         [0.1093, 0.9577, 0.6264, 0.3522]]])"
      ]
     },
     "execution_count": 6,
     "metadata": {},
     "output_type": "execute_result"
    }
   ],
   "source": [
    "random_tensor = torch.rand(10, 3,4)\n",
    "random_tensor"
   ]
  },
  {
   "cell_type": "code",
   "execution_count": 7,
   "id": "6dc82e62",
   "metadata": {},
   "outputs": [
    {
     "data": {
      "text/plain": [
       "3"
      ]
     },
     "execution_count": 7,
     "metadata": {},
     "output_type": "execute_result"
    }
   ],
   "source": [
    "random_tensor.ndim"
   ]
  },
  {
   "cell_type": "code",
   "execution_count": 8,
   "id": "3296f6fc",
   "metadata": {},
   "outputs": [
    {
     "data": {
      "text/plain": [
       "torch.Size([224, 224, 3])"
      ]
     },
     "execution_count": 8,
     "metadata": {},
     "output_type": "execute_result"
    }
   ],
   "source": [
    "img_shape = torch.rand(size=(224, 224, 3))\n",
    "img_shape.shape"
   ]
  },
  {
   "cell_type": "code",
   "execution_count": 9,
   "id": "129f94e3",
   "metadata": {},
   "outputs": [
    {
     "data": {
      "text/plain": [
       "tensor([[0., 0., 0.],\n",
       "        [0., 0., 0.],\n",
       "        [0., 0., 0.]])"
      ]
     },
     "execution_count": 9,
     "metadata": {},
     "output_type": "execute_result"
    }
   ],
   "source": [
    "zero = torch.zeros(size=(3,3))\n",
    "zero"
   ]
  },
  {
   "cell_type": "code",
   "execution_count": 10,
   "id": "db8cd8bf",
   "metadata": {},
   "outputs": [
    {
     "data": {
      "text/plain": [
       "tensor([[1., 1., 1., 1., 1.],\n",
       "        [1., 1., 1., 1., 1.],\n",
       "        [1., 1., 1., 1., 1.],\n",
       "        [1., 1., 1., 1., 1.]])"
      ]
     },
     "execution_count": 10,
     "metadata": {},
     "output_type": "execute_result"
    }
   ],
   "source": [
    "ones = torch.ones(size=(4,5))\n",
    "ones"
   ]
  },
  {
   "cell_type": "code",
   "execution_count": 11,
   "id": "d35eb23e",
   "metadata": {},
   "outputs": [
    {
     "name": "stderr",
     "output_type": "stream",
     "text": [
      "/tmp/ipykernel_4825/3848811159.py:1: UserWarning: torch.range is deprecated and will be removed in a future release because its behavior is inconsistent with Python's range builtin. Instead, use torch.arange, which produces values in [start, end).\n",
      "  torch.range(2,20)\n"
     ]
    },
    {
     "data": {
      "text/plain": [
       "tensor([0, 0, 0])"
      ]
     },
     "execution_count": 11,
     "metadata": {},
     "output_type": "execute_result"
    }
   ],
   "source": [
    "torch.range(2,20)\n",
    "t0 = torch.arange(start=2, end=20, step=6)\n",
    "zeros = torch.zeros_like(input=t0)\n",
    "zeros"
   ]
  },
  {
   "cell_type": "code",
   "execution_count": 12,
   "id": "b9be3b1b",
   "metadata": {},
   "outputs": [
    {
     "data": {
      "text/plain": [
       "torch.float32"
      ]
     },
     "execution_count": 12,
     "metadata": {},
     "output_type": "execute_result"
    }
   ],
   "source": [
    "float_32 = torch.tensor([3.0,9.0, 89.0],\n",
    "                        dtype= None)\n",
    "float_32.dtype"
   ]
  },
  {
   "cell_type": "code",
   "execution_count": 13,
   "id": "f1d1eba5",
   "metadata": {},
   "outputs": [
    {
     "data": {
      "text/plain": [
       "torch.float16"
      ]
     },
     "execution_count": 13,
     "metadata": {},
     "output_type": "execute_result"
    }
   ],
   "source": [
    "float_32 = torch.tensor([3.0,9.0, 89.0],\n",
    "                        dtype= torch.float16)\n",
    "float_32.dtype"
   ]
  },
  {
   "cell_type": "code",
   "execution_count": 14,
   "id": "bbeb9de2",
   "metadata": {},
   "outputs": [
    {
     "data": {
      "text/plain": [
       "torch.float32"
      ]
     },
     "execution_count": 14,
     "metadata": {},
     "output_type": "execute_result"
    }
   ],
   "source": [
    "float_32 = torch.tensor([3.0,9.0, 89.0],\n",
    "                        dtype= None, \n",
    "                        device=\"cuda\",\n",
    "                        requires_grad=False)\n",
    "float_32.dtype"
   ]
  },
  {
   "cell_type": "code",
   "execution_count": 15,
   "id": "79799625",
   "metadata": {},
   "outputs": [
    {
     "data": {
      "text/plain": [
       "tensor([ 3.,  9., 89.], device='cuda:0', dtype=torch.float16)"
      ]
     },
     "execution_count": 15,
     "metadata": {},
     "output_type": "execute_result"
    }
   ],
   "source": [
    "float_16 = float_32.type(torch.float16)\n",
    "float_16"
   ]
  },
  {
   "cell_type": "code",
   "execution_count": 16,
   "id": "999559f8",
   "metadata": {},
   "outputs": [
    {
     "data": {
      "text/plain": [
       "tensor([   9.,   81., 7921.], device='cuda:0')"
      ]
     },
     "execution_count": 16,
     "metadata": {},
     "output_type": "execute_result"
    }
   ],
   "source": [
    "float_16*float_32"
   ]
  },
  {
   "cell_type": "code",
   "execution_count": 17,
   "id": "03f4ac51",
   "metadata": {},
   "outputs": [
    {
     "data": {
      "text/plain": [
       "tensor([[0.3751, 0.4108, 0.2080, 0.1278],\n",
       "        [0.1916, 0.4097, 0.7261, 0.2292],\n",
       "        [0.9786, 0.4558, 0.4869, 0.2108]])"
      ]
     },
     "execution_count": 17,
     "metadata": {},
     "output_type": "execute_result"
    }
   ],
   "source": [
    "some_tensor = torch.rand(3,4)\n",
    "some_tensor"
   ]
  },
  {
   "cell_type": "code",
   "execution_count": 18,
   "id": "a71e29ca",
   "metadata": {},
   "outputs": [
    {
     "name": "stdout",
     "output_type": "stream",
     "text": [
      "tensor([[0.3751, 0.4108, 0.2080, 0.1278],\n",
      "        [0.1916, 0.4097, 0.7261, 0.2292],\n",
      "        [0.9786, 0.4558, 0.4869, 0.2108]])\n",
      "Datatype of tensor : torch.float32\n",
      "Sahpe : torch.Size([3, 4])\n",
      "Device : cpu\n"
     ]
    }
   ],
   "source": [
    "print(some_tensor)\n",
    "print(f\"Datatype of tensor : {some_tensor.dtype}\")\n",
    "print(f\"Sahpe : {some_tensor.shape}\")\n",
    "print(f\"Device : {some_tensor.device}\")"
   ]
  },
  {
   "cell_type": "markdown",
   "id": "c673e245",
   "metadata": {},
   "source": [
    "2 hours 11 minutes"
   ]
  },
  {
   "cell_type": "code",
   "execution_count": 19,
   "id": "e3edb772",
   "metadata": {},
   "outputs": [
    {
     "data": {
      "text/plain": [
       "tensor([11, 12, 13])"
      ]
     },
     "execution_count": 19,
     "metadata": {},
     "output_type": "execute_result"
    }
   ],
   "source": [
    "tensor = torch.tensor([1,2,3])\n",
    "tensor+10"
   ]
  },
  {
   "cell_type": "code",
   "execution_count": 20,
   "id": "e6c87c54",
   "metadata": {},
   "outputs": [
    {
     "data": {
      "text/plain": [
       "tensor([10, 20, 30])"
      ]
     },
     "execution_count": 20,
     "metadata": {},
     "output_type": "execute_result"
    }
   ],
   "source": [
    "tensor*10"
   ]
  },
  {
   "cell_type": "code",
   "execution_count": 21,
   "id": "5d6c2cfb",
   "metadata": {},
   "outputs": [
    {
     "data": {
      "text/plain": [
       "tensor([-9, -8, -7])"
      ]
     },
     "execution_count": 21,
     "metadata": {},
     "output_type": "execute_result"
    }
   ],
   "source": [
    "tensor-10"
   ]
  },
  {
   "cell_type": "code",
   "execution_count": 22,
   "id": "4e1bb342",
   "metadata": {},
   "outputs": [
    {
     "data": {
      "text/plain": [
       "tensor([10, 20, 30])"
      ]
     },
     "execution_count": 22,
     "metadata": {},
     "output_type": "execute_result"
    }
   ],
   "source": [
    "torch.mul(tensor, 10)"
   ]
  },
  {
   "cell_type": "code",
   "execution_count": 23,
   "id": "a9cd8d70",
   "metadata": {},
   "outputs": [
    {
     "data": {
      "text/plain": [
       "tensor([51, 52, 53])"
      ]
     },
     "execution_count": 23,
     "metadata": {},
     "output_type": "execute_result"
    }
   ],
   "source": [
    "torch.add(tensor, 50)"
   ]
  },
  {
   "cell_type": "code",
   "execution_count": 24,
   "id": "935ca13e",
   "metadata": {},
   "outputs": [
    {
     "data": {
      "text/plain": [
       "tensor([1, 4, 9])"
      ]
     },
     "execution_count": 24,
     "metadata": {},
     "output_type": "execute_result"
    }
   ],
   "source": [
    "tensor*tensor"
   ]
  },
  {
   "cell_type": "code",
   "execution_count": 25,
   "id": "d2e6914e",
   "metadata": {},
   "outputs": [
    {
     "data": {
      "text/plain": [
       "tensor(14)"
      ]
     },
     "execution_count": 25,
     "metadata": {},
     "output_type": "execute_result"
    }
   ],
   "source": [
    "torch.matmul(tensor, tensor)"
   ]
  },
  {
   "cell_type": "code",
   "execution_count": 26,
   "id": "2d5e9dcf",
   "metadata": {},
   "outputs": [
    {
     "data": {
      "text/plain": [
       "tensor([[ 9, 16, 64],\n",
       "        [ 4, 16, 81],\n",
       "        [16, 25, 25]])"
      ]
     },
     "execution_count": 26,
     "metadata": {},
     "output_type": "execute_result"
    }
   ],
   "source": [
    "t1 = torch.tensor([[3,4,8],\n",
    "                   [2,4,9],\n",
    "                   [4,5,-5]])\n",
    "t1*t1"
   ]
  },
  {
   "cell_type": "code",
   "execution_count": 27,
   "id": "fd01b0e4",
   "metadata": {},
   "outputs": [
    {
     "data": {
      "text/plain": [
       "tensor([[ 49,  68,  20],\n",
       "        [ 50,  69,   7],\n",
       "        [  2,  11, 102]])"
      ]
     },
     "execution_count": 27,
     "metadata": {},
     "output_type": "execute_result"
    }
   ],
   "source": [
    "torch.matmul(t1,t1)"
   ]
  },
  {
   "cell_type": "markdown",
   "id": "f9e53e5c",
   "metadata": {},
   "source": [
    "2 hours 28 minuts"
   ]
  },
  {
   "cell_type": "code",
   "execution_count": 28,
   "id": "c8644adc",
   "metadata": {},
   "outputs": [
    {
     "ename": "RuntimeError",
     "evalue": "mat1 and mat2 shapes cannot be multiplied (3x2 and 3x2)",
     "output_type": "error",
     "traceback": [
      "\u001b[0;31m---------------------------------------------------------------------------\u001b[0m",
      "\u001b[0;31mRuntimeError\u001b[0m                              Traceback (most recent call last)",
      "Cell \u001b[0;32mIn[28], line 1\u001b[0m\n\u001b[0;32m----> 1\u001b[0m \u001b[43mtorch\u001b[49m\u001b[38;5;241;43m.\u001b[39;49m\u001b[43mmatmul\u001b[49m\u001b[43m(\u001b[49m\u001b[43mtorch\u001b[49m\u001b[38;5;241;43m.\u001b[39;49m\u001b[43mrand\u001b[49m\u001b[43m(\u001b[49m\u001b[38;5;241;43m3\u001b[39;49m\u001b[43m,\u001b[49m\u001b[38;5;241;43m2\u001b[39;49m\u001b[43m)\u001b[49m\u001b[43m,\u001b[49m\u001b[43m \u001b[49m\u001b[43mtorch\u001b[49m\u001b[38;5;241;43m.\u001b[39;49m\u001b[43mrand\u001b[49m\u001b[43m(\u001b[49m\u001b[38;5;241;43m3\u001b[39;49m\u001b[43m,\u001b[49m\u001b[38;5;241;43m2\u001b[39;49m\u001b[43m)\u001b[49m\u001b[43m)\u001b[49m\n\u001b[1;32m      2\u001b[0m \u001b[38;5;66;03m#given the error\u001b[39;00m\n",
      "\u001b[0;31mRuntimeError\u001b[0m: mat1 and mat2 shapes cannot be multiplied (3x2 and 3x2)"
     ]
    }
   ],
   "source": [
    "torch.matmul(torch.rand(3,2), torch.rand(3,2))\n",
    "#given the error"
   ]
  },
  {
   "cell_type": "code",
   "execution_count": 29,
   "id": "81f0a0e9",
   "metadata": {},
   "outputs": [
    {
     "data": {
      "text/plain": [
       "tensor([[0.8431, 0.4889, 0.7058],\n",
       "        [0.8145, 0.3854, 0.8341],\n",
       "        [0.5914, 0.3660, 0.4546]])"
      ]
     },
     "execution_count": 29,
     "metadata": {},
     "output_type": "execute_result"
    }
   ],
   "source": [
    "torch.matmul(torch.rand(3,2), torch.rand(2,3))\n"
   ]
  },
  {
   "cell_type": "code",
   "execution_count": 30,
   "id": "2300bacc",
   "metadata": {},
   "outputs": [
    {
     "data": {
      "text/plain": [
       "torch.Size([5, 10])"
      ]
     },
     "execution_count": 30,
     "metadata": {},
     "output_type": "execute_result"
    }
   ],
   "source": [
    "torch.matmul(torch.rand(5,4), torch.rand(4,10)).shape"
   ]
  },
  {
   "cell_type": "code",
   "execution_count": 31,
   "id": "8c966bc5",
   "metadata": {},
   "outputs": [
    {
     "data": {
      "text/plain": [
       "(tensor([[0.0518, 0.1257, 0.8445, 0.0274],\n",
       "         [0.2733, 0.1328, 0.2530, 0.5321]]),\n",
       " torch.Size([2, 4]))"
      ]
     },
     "execution_count": 31,
     "metadata": {},
     "output_type": "execute_result"
    }
   ],
   "source": [
    "A = torch.rand(2,4)\n",
    "A, A.shape"
   ]
  },
  {
   "cell_type": "code",
   "execution_count": null,
   "id": "bd887dfb",
   "metadata": {},
   "outputs": [
    {
     "data": {
      "text/plain": [
       "(tensor([[0.7192, 0.2495],\n",
       "         [0.2326, 0.7201],\n",
       "         [0.5936, 0.9541],\n",
       "         [0.8300, 0.8432]]),\n",
       " torch.Size([4, 2]))"
      ]
     },
     "execution_count": 61,
     "metadata": {},
     "output_type": "execute_result"
    }
   ],
   "source": [
    "A.T, A.T.shape"
   ]
  },
  {
   "cell_type": "markdown",
   "id": "65d4a418",
   "metadata": {},
   "source": [
    "Find min, max, sum"
   ]
  },
  {
   "cell_type": "code",
   "execution_count": null,
   "id": "78ac9b42",
   "metadata": {},
   "outputs": [
    {
     "data": {
      "text/plain": [
       "torch.int64"
      ]
     },
     "execution_count": 66,
     "metadata": {},
     "output_type": "execute_result"
    }
   ],
   "source": [
    "x = torch.arange(2, 100, 10)\n",
    "x.dtype"
   ]
  },
  {
   "cell_type": "code",
   "execution_count": null,
   "id": "6d426213",
   "metadata": {},
   "outputs": [
    {
     "data": {
      "text/plain": [
       "(tensor(2), tensor(92), tensor(47.), tensor(470))"
      ]
     },
     "execution_count": 67,
     "metadata": {},
     "output_type": "execute_result"
    }
   ],
   "source": [
    "torch.min(x), torch.max(x), torch.mean(x.type(torch.float32)), torch.sum(x)"
   ]
  },
  {
   "cell_type": "code",
   "execution_count": null,
   "id": "72af15f3",
   "metadata": {},
   "outputs": [
    {
     "data": {
      "text/plain": [
       "tensor(0)"
      ]
     },
     "execution_count": 68,
     "metadata": {},
     "output_type": "execute_result"
    }
   ],
   "source": [
    "x.argmin()"
   ]
  },
  {
   "cell_type": "code",
   "execution_count": null,
   "id": "f78bcaef",
   "metadata": {},
   "outputs": [
    {
     "data": {
      "text/plain": [
       "tensor(9)"
      ]
     },
     "execution_count": 70,
     "metadata": {},
     "output_type": "execute_result"
    }
   ],
   "source": [
    "x.argmax()"
   ]
  },
  {
   "cell_type": "markdown",
   "id": "26d7f660",
   "metadata": {},
   "source": [
    "3 hours"
   ]
  },
  {
   "cell_type": "code",
   "execution_count": 32,
   "id": "4ede5c34",
   "metadata": {},
   "outputs": [
    {
     "data": {
      "text/plain": [
       "(tensor([1, 2, 3, 4, 5, 6, 7, 8, 9]), torch.Size([9]))"
      ]
     },
     "execution_count": 32,
     "metadata": {},
     "output_type": "execute_result"
    }
   ],
   "source": [
    "import torch\n",
    "x = torch.arange(1,10)\n",
    "x, x.shape"
   ]
  },
  {
   "cell_type": "code",
   "execution_count": 33,
   "id": "188dc6f3",
   "metadata": {},
   "outputs": [
    {
     "data": {
      "text/plain": [
       "(tensor([[1, 2, 3, 4, 5, 6, 7, 8, 9]]), torch.Size([1, 9]))"
      ]
     },
     "execution_count": 33,
     "metadata": {},
     "output_type": "execute_result"
    }
   ],
   "source": [
    "x_reshape = x.reshape(1,9)\n",
    "x_reshape, x_reshape.shape"
   ]
  },
  {
   "cell_type": "code",
   "execution_count": 34,
   "id": "fcb35114",
   "metadata": {},
   "outputs": [
    {
     "data": {
      "text/plain": [
       "(tensor([ 1.,  2.,  3.,  4.,  5.,  6.,  7.,  8.,  9., 10.]), torch.Size([10]))"
      ]
     },
     "execution_count": 34,
     "metadata": {},
     "output_type": "execute_result"
    }
   ],
   "source": [
    "x = torch.arange(1.,11.)\n",
    "x, x.shape"
   ]
  },
  {
   "cell_type": "code",
   "execution_count": 35,
   "id": "96a5ffb4",
   "metadata": {},
   "outputs": [
    {
     "data": {
      "text/plain": [
       "(tensor([[ 1.,  2.],\n",
       "         [ 3.,  4.],\n",
       "         [ 5.,  6.],\n",
       "         [ 7.,  8.],\n",
       "         [ 9., 10.]]),\n",
       " torch.Size([5, 2]))"
      ]
     },
     "execution_count": 35,
     "metadata": {},
     "output_type": "execute_result"
    }
   ],
   "source": [
    "x_reshape = x.reshape(5,2)\n",
    "x_reshape, x_reshape.shape"
   ]
  },
  {
   "cell_type": "markdown",
   "id": "2ab6e3f6",
   "metadata": {},
   "source": [
    "Completed 3 hours 10 minutes"
   ]
  },
  {
   "cell_type": "code",
   "execution_count": 36,
   "id": "f41021ea",
   "metadata": {},
   "outputs": [
    {
     "data": {
      "text/plain": [
       "tensor([[ 1.,  2.,  3.,  4.,  5.,  6.,  7.,  8.,  9., 10.],\n",
       "        [ 1.,  2.,  3.,  4.,  5.,  6.,  7.,  8.,  9., 10.],\n",
       "        [ 1.,  2.,  3.,  4.,  5.,  6.,  7.,  8.,  9., 10.],\n",
       "        [ 1.,  2.,  3.,  4.,  5.,  6.,  7.,  8.,  9., 10.]])"
      ]
     },
     "execution_count": 36,
     "metadata": {},
     "output_type": "execute_result"
    }
   ],
   "source": [
    "x_stack = torch.stack([x,x,x,x],dim=0)\n",
    "x_stack"
   ]
  },
  {
   "cell_type": "code",
   "execution_count": 38,
   "id": "a46efd43",
   "metadata": {},
   "outputs": [
    {
     "data": {
      "text/plain": [
       "torch.Size([5, 2])"
      ]
     },
     "execution_count": 38,
     "metadata": {},
     "output_type": "execute_result"
    }
   ],
   "source": [
    "x_reshape.shape"
   ]
  },
  {
   "cell_type": "code",
   "execution_count": 39,
   "id": "c6a20b92",
   "metadata": {},
   "outputs": [
    {
     "data": {
      "text/plain": [
       "torch.Size([5, 2])"
      ]
     },
     "execution_count": 39,
     "metadata": {},
     "output_type": "execute_result"
    }
   ],
   "source": [
    "x_reshape.squeeze().shape"
   ]
  },
  {
   "cell_type": "code",
   "execution_count": 41,
   "id": "26b4688c",
   "metadata": {},
   "outputs": [
    {
     "data": {
      "text/plain": [
       "torch.Size([9])"
      ]
     },
     "execution_count": 41,
     "metadata": {},
     "output_type": "execute_result"
    }
   ],
   "source": [
    "x = torch.arange(1,10,1)\n",
    "x.shape"
   ]
  },
  {
   "cell_type": "code",
   "execution_count": 43,
   "id": "5292db28",
   "metadata": {},
   "outputs": [
    {
     "data": {
      "text/plain": [
       "torch.Size([1, 9])"
      ]
     },
     "execution_count": 43,
     "metadata": {},
     "output_type": "execute_result"
    }
   ],
   "source": [
    "x_reshape = x.reshape(1,9)\n",
    "x_reshape.shape"
   ]
  },
  {
   "cell_type": "code",
   "execution_count": 45,
   "id": "4cf9af09",
   "metadata": {},
   "outputs": [
    {
     "data": {
      "text/plain": [
       "torch.Size([9])"
      ]
     },
     "execution_count": 45,
     "metadata": {},
     "output_type": "execute_result"
    }
   ],
   "source": [
    "x_squeez = x_reshape.squeeze()\n",
    "x_squeez.shape"
   ]
  },
  {
   "cell_type": "code",
   "execution_count": null,
   "id": "d0407342",
   "metadata": {},
   "outputs": [
    {
     "data": {
      "text/plain": [
       "torch.Size([9, 1])"
      ]
     },
     "execution_count": 51,
     "metadata": {},
     "output_type": "execute_result"
    }
   ],
   "source": [
    "x_unsquzed = x_squeez.unsqueeze(dim=0)\n",
    "x_unsquzed.shape"
   ]
  },
  {
   "cell_type": "code",
   "execution_count": 54,
   "id": "781ab2c6",
   "metadata": {},
   "outputs": [
    {
     "data": {
      "text/plain": [
       "tensor([[[ 0.1565,  0.5530, -2.0854,  0.6807, -0.3563],\n",
       "         [-0.5485,  0.4276, -0.0517, -0.8266, -1.5075],\n",
       "         [ 1.1500,  0.7877,  1.5423, -1.1795, -0.4177]],\n",
       "\n",
       "        [[-0.8461,  0.8306,  0.3287,  0.6973,  1.8499],\n",
       "         [ 0.6785, -0.8331, -0.1438,  0.6121, -0.5927],\n",
       "         [ 1.8612,  0.9313,  1.4913,  1.4599, -1.4078]]])"
      ]
     },
     "execution_count": 54,
     "metadata": {},
     "output_type": "execute_result"
    }
   ],
   "source": [
    "x = torch.randn(2,3,5)\n",
    "x"
   ]
  },
  {
   "cell_type": "code",
   "execution_count": 55,
   "id": "1098f14a",
   "metadata": {},
   "outputs": [
    {
     "name": "stdout",
     "output_type": "stream",
     "text": [
      "Previous : torch.Size([224, 224, 3])\n",
      "New : torch.Size([3, 224, 224])\n"
     ]
    }
   ],
   "source": [
    "x_originl = torch.rand(size=(224,224,3))\n",
    "x_permu = x_originl.permute(2,0,1)\n",
    "print(f\"Previous : {x_originl.shape}\")\n",
    "print(f\"New : {x_permu.shape}\")"
   ]
  },
  {
   "cell_type": "markdown",
   "id": "ad21375b",
   "metadata": {},
   "source": [
    "3 hours 24 minutes"
   ]
  },
  {
   "cell_type": "code",
   "execution_count": 58,
   "id": "dc78d7fc",
   "metadata": {},
   "outputs": [],
   "source": [
    "import torch"
   ]
  },
  {
   "cell_type": "code",
   "execution_count": 59,
   "id": "4339064e",
   "metadata": {},
   "outputs": [
    {
     "data": {
      "text/plain": [
       "(tensor([[[1, 2, 3],\n",
       "          [4, 5, 6],\n",
       "          [7, 8, 9]]]),\n",
       " torch.Size([1, 3, 3]))"
      ]
     },
     "execution_count": 59,
     "metadata": {},
     "output_type": "execute_result"
    }
   ],
   "source": [
    "x = torch.arange(1,10).reshape(1,3,3)\n",
    "x,x.shape"
   ]
  },
  {
   "cell_type": "code",
   "execution_count": 57,
   "id": "40422694",
   "metadata": {},
   "outputs": [
    {
     "data": {
      "text/plain": [
       "tensor([[1, 2, 3],\n",
       "        [4, 5, 6],\n",
       "        [7, 8, 9]])"
      ]
     },
     "execution_count": 57,
     "metadata": {},
     "output_type": "execute_result"
    }
   ],
   "source": [
    "x[0]"
   ]
  },
  {
   "cell_type": "code",
   "execution_count": 61,
   "id": "77807a13",
   "metadata": {},
   "outputs": [
    {
     "data": {
      "text/plain": [
       "(tensor([1, 2, 3]), tensor([1, 2, 3]))"
      ]
     },
     "execution_count": 61,
     "metadata": {},
     "output_type": "execute_result"
    }
   ],
   "source": [
    "x[0,0],x[0][0]"
   ]
  },
  {
   "cell_type": "code",
   "execution_count": 65,
   "id": "7d69d619",
   "metadata": {},
   "outputs": [
    {
     "data": {
      "text/plain": [
       "tensor(7)"
      ]
     },
     "execution_count": 65,
     "metadata": {},
     "output_type": "execute_result"
    }
   ],
   "source": [
    "x[0][2][0]"
   ]
  },
  {
   "cell_type": "code",
   "execution_count": 66,
   "id": "30843524",
   "metadata": {},
   "outputs": [
    {
     "data": {
      "text/plain": [
       "tensor([[1, 2, 3]])"
      ]
     },
     "execution_count": 66,
     "metadata": {},
     "output_type": "execute_result"
    }
   ],
   "source": [
    "x[:,0]"
   ]
  },
  {
   "cell_type": "code",
   "execution_count": 67,
   "id": "f909d929",
   "metadata": {},
   "outputs": [
    {
     "data": {
      "text/plain": [
       "tensor([[3, 6, 9]])"
      ]
     },
     "execution_count": 67,
     "metadata": {},
     "output_type": "execute_result"
    }
   ],
   "source": [
    "x[:,:,2]"
   ]
  },
  {
   "cell_type": "code",
   "execution_count": 68,
   "id": "cc9f22f3",
   "metadata": {},
   "outputs": [],
   "source": [
    "import torch\n",
    "import numpy as np"
   ]
  },
  {
   "cell_type": "code",
   "execution_count": null,
   "id": "7c358de6",
   "metadata": {},
   "outputs": [
    {
     "data": {
      "text/plain": [
       "(array([1., 2., 3., 4., 5., 6., 7.]), tensor([1., 2., 3., 4., 5., 6., 7.]))"
      ]
     },
     "execution_count": 72,
     "metadata": {},
     "output_type": "execute_result"
    }
   ],
   "source": [
    "array = np.arange(1.0, 8.0)\n",
    "tensor = torch.from_numpy(array).type(torch.float32)\n",
    "array, tensor"
   ]
  },
  {
   "cell_type": "code",
   "execution_count": 73,
   "id": "77a4569f",
   "metadata": {},
   "outputs": [
    {
     "data": {
      "text/plain": [
       "(dtype('float64'), torch.float32)"
      ]
     },
     "execution_count": 73,
     "metadata": {},
     "output_type": "execute_result"
    }
   ],
   "source": [
    "array.dtype, tensor.dtype"
   ]
  },
  {
   "cell_type": "code",
   "execution_count": 74,
   "id": "eb26e20d",
   "metadata": {},
   "outputs": [
    {
     "data": {
      "text/plain": [
       "(tensor([1., 1., 1., 1., 1., 1., 1.]),\n",
       " array([1., 1., 1., 1., 1., 1., 1.], dtype=float32))"
      ]
     },
     "execution_count": 74,
     "metadata": {},
     "output_type": "execute_result"
    }
   ],
   "source": [
    "tensor = torch.ones(7)\n",
    "num_ten = tensor.numpy()\n",
    "tensor, num_ten"
   ]
  },
  {
   "cell_type": "code",
   "execution_count": 75,
   "id": "8f959c8f",
   "metadata": {},
   "outputs": [
    {
     "data": {
      "text/plain": [
       "dtype('float32')"
      ]
     },
     "execution_count": 75,
     "metadata": {},
     "output_type": "execute_result"
    }
   ],
   "source": [
    "num_ten.dtype"
   ]
  },
  {
   "cell_type": "markdown",
   "id": "d64d0ebb",
   "metadata": {},
   "source": [
    "3 hours 42 min\n",
    "Reduce randomness\n",
    "torch.rand"
   ]
  },
  {
   "cell_type": "code",
   "execution_count": 80,
   "id": "de510d7e",
   "metadata": {},
   "outputs": [],
   "source": [
    "import torch"
   ]
  },
  {
   "cell_type": "code",
   "execution_count": 82,
   "id": "406ca82d",
   "metadata": {},
   "outputs": [
    {
     "name": "stdout",
     "output_type": "stream",
     "text": [
      "tensor([[0.0212, 0.7924, 0.7187],\n",
      "        [0.4196, 0.3194, 0.9104],\n",
      "        [0.9140, 0.4850, 0.1749]])\n",
      "tensor([[0.6863, 0.7445, 0.1451],\n",
      "        [0.8355, 0.3217, 0.1869],\n",
      "        [0.6086, 0.0116, 0.3670]])\n",
      "tensor([[False, False, False],\n",
      "        [False, False, False],\n",
      "        [False, False, False]])\n"
     ]
    }
   ],
   "source": [
    "ra = torch.rand(3,3)\n",
    "rb = torch.rand(3,3)\n",
    "print(ra)\n",
    "print(rb)\n",
    "print(ra==rb)"
   ]
  },
  {
   "cell_type": "code",
   "execution_count": 86,
   "id": "e1c0784a",
   "metadata": {},
   "outputs": [
    {
     "name": "stdout",
     "output_type": "stream",
     "text": [
      "tensor([[0.2919, 0.2857, 0.4021, 0.4645],\n",
      "        [0.9503, 0.2564, 0.6645, 0.8609],\n",
      "        [0.3538, 0.3347, 0.7285, 0.5794]])\n",
      "tensor([[0.2919, 0.2857, 0.4021, 0.4645],\n",
      "        [0.9503, 0.2564, 0.6645, 0.8609],\n",
      "        [0.3538, 0.3347, 0.7285, 0.5794]])\n",
      "tensor([[True, True, True, True],\n",
      "        [True, True, True, True],\n",
      "        [True, True, True, True]])\n"
     ]
    }
   ],
   "source": [
    "\n",
    "RANDOM_SEED = 77\n",
    "torch.manual_seed(RANDOM_SEED)\n",
    "rc = torch.rand(3,4)\n",
    "torch.manual_seed(RANDOM_SEED)\n",
    "rd = torch.rand(3,4)\n",
    "\n",
    "print(rc)\n",
    "print(rd)\n",
    "print(rc==rd)\n"
   ]
  },
  {
   "cell_type": "markdown",
   "id": "71737665",
   "metadata": {},
   "source": [
    "GPU\n",
    "3:53:0\n",
    "agonstic"
   ]
  },
  {
   "cell_type": "code",
   "execution_count": 87,
   "id": "818d95e2",
   "metadata": {},
   "outputs": [
    {
     "data": {
      "text/plain": [
       "True"
      ]
     },
     "execution_count": 87,
     "metadata": {},
     "output_type": "execute_result"
    }
   ],
   "source": [
    "import torch\n",
    "torch.cuda.is_available()"
   ]
  },
  {
   "cell_type": "code",
   "execution_count": 88,
   "id": "1a8abe21",
   "metadata": {},
   "outputs": [
    {
     "data": {
      "text/plain": [
       "'cuda'"
      ]
     },
     "execution_count": 88,
     "metadata": {},
     "output_type": "execute_result"
    }
   ],
   "source": [
    "device = \"cuda\" if torch.cuda.is_available() else \"cpu\"\n",
    "device"
   ]
  },
  {
   "cell_type": "code",
   "execution_count": 89,
   "id": "ce29b7be",
   "metadata": {},
   "outputs": [
    {
     "data": {
      "text/plain": [
       "1"
      ]
     },
     "execution_count": 89,
     "metadata": {},
     "output_type": "execute_result"
    }
   ],
   "source": [
    "torch.cuda.device_count()"
   ]
  },
  {
   "cell_type": "markdown",
   "id": "da029178",
   "metadata": {},
   "source": [
    "Putting tensors(or models) on gpu"
   ]
  },
  {
   "cell_type": "code",
   "execution_count": 90,
   "id": "7c422a7f",
   "metadata": {},
   "outputs": [
    {
     "name": "stdout",
     "output_type": "stream",
     "text": [
      "tensor([1, 3, 4]) cpu\n"
     ]
    }
   ],
   "source": [
    "tensor = torch.tensor([1,3,4], device=\"cpu\")\n",
    "print(tensor, tensor.device)"
   ]
  },
  {
   "cell_type": "code",
   "execution_count": 91,
   "id": "a690de2b",
   "metadata": {},
   "outputs": [
    {
     "data": {
      "text/plain": [
       "tensor([1, 3, 4], device='cuda:0')"
      ]
     },
     "execution_count": 91,
     "metadata": {},
     "output_type": "execute_result"
    }
   ],
   "source": [
    "#move to gpu\n",
    "tensor_to_gpu = tensor.to(device)\n",
    "tensor_to_gpu"
   ]
  },
  {
   "cell_type": "code",
   "execution_count": 92,
   "id": "32a4d087",
   "metadata": {},
   "outputs": [
    {
     "ename": "TypeError",
     "evalue": "can't convert cuda:0 device type tensor to numpy. Use Tensor.cpu() to copy the tensor to host memory first.",
     "output_type": "error",
     "traceback": [
      "\u001b[0;31m---------------------------------------------------------------------------\u001b[0m",
      "\u001b[0;31mTypeError\u001b[0m                                 Traceback (most recent call last)",
      "Cell \u001b[0;32mIn[92], line 2\u001b[0m\n\u001b[1;32m      1\u001b[0m \u001b[38;5;66;03m#back to cpu\u001b[39;00m\n\u001b[0;32m----> 2\u001b[0m \u001b[43mtensor_to_gpu\u001b[49m\u001b[38;5;241;43m.\u001b[39;49m\u001b[43mnumpy\u001b[49m\u001b[43m(\u001b[49m\u001b[43m)\u001b[49m\n",
      "\u001b[0;31mTypeError\u001b[0m: can't convert cuda:0 device type tensor to numpy. Use Tensor.cpu() to copy the tensor to host memory first."
     ]
    }
   ],
   "source": [
    "#back to cpu\n",
    "tensor_to_gpu.numpy()"
   ]
  },
  {
   "cell_type": "code",
   "execution_count": 93,
   "id": "8e34e991",
   "metadata": {},
   "outputs": [
    {
     "data": {
      "text/plain": [
       "array([1, 3, 4])"
      ]
     },
     "execution_count": 93,
     "metadata": {},
     "output_type": "execute_result"
    }
   ],
   "source": [
    "back_cpu = tensor_to_gpu.cpu().numpy()\n",
    "back_cpu"
   ]
  },
  {
   "cell_type": "markdown",
   "id": "f5c051ac",
   "metadata": {},
   "source": [
    "Excersises\n",
    "4:13:0"
   ]
  },
  {
   "cell_type": "code",
   "execution_count": null,
   "id": "d65d88a0",
   "metadata": {},
   "outputs": [],
   "source": []
  }
 ],
 "metadata": {
  "kernelspec": {
   "display_name": "Python 3",
   "language": "python",
   "name": "python3"
  },
  "language_info": {
   "codemirror_mode": {
    "name": "ipython",
    "version": 3
   },
   "file_extension": ".py",
   "mimetype": "text/x-python",
   "name": "python",
   "nbconvert_exporter": "python",
   "pygments_lexer": "ipython3",
   "version": "3.13.3"
  }
 },
 "nbformat": 4,
 "nbformat_minor": 5
}

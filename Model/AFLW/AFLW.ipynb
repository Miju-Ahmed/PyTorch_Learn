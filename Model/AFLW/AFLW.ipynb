{
 "cells": [
  {
   "cell_type": "code",
   "execution_count": 1,
   "id": "283a6355",
   "metadata": {},
   "outputs": [],
   "source": [
    "import numpy as np\n",
    "\n",
    "def read_pts_file(pts_path):\n",
    "    with open(pts_path) as f:\n",
    "        lines = f.readlines()\n",
    "        lines = [line.strip() for line in lines if line.strip() and not line.startswith(('version', 'n_points', '{', '}'))]\n",
    "        landmarks = np.array([[float(x) for x in line.split()] for line in lines])\n",
    "    return landmarks"
   ]
  },
  {
   "cell_type": "code",
   "execution_count": null,
   "id": "c180fece",
   "metadata": {},
   "outputs": [],
   "source": [
    "from glob import glob\n",
    "import os\n",
    "\n",
    "dataset_path = '/media/miju_chowdhury/Miju/Datasets/300W-Style/300W-Style'\n",
    "\n",
    "image_paths = sorted(glob(f'{dataset_path}/*/*/*.jpg'))  # or adjust depth as needed\n",
    "pts_paths = [img_path.replace('.jpg', '.pts') for img_path in image_paths]\n"
   ]
  }
 ],
 "metadata": {
  "kernelspec": {
   "display_name": "Python 3",
   "language": "python",
   "name": "python3"
  },
  "language_info": {
   "codemirror_mode": {
    "name": "ipython",
    "version": 3
   },
   "file_extension": ".py",
   "mimetype": "text/x-python",
   "name": "python",
   "nbconvert_exporter": "python",
   "pygments_lexer": "ipython3",
   "version": "3.13.3"
  }
 },
 "nbformat": 4,
 "nbformat_minor": 5
}

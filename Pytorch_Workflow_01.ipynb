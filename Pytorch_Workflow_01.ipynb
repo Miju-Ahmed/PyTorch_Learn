{
 "cells": [
  {
   "cell_type": "code",
   "execution_count": 1,
   "id": "2598bcbc",
   "metadata": {},
   "outputs": [],
   "source": [
    "import torch"
   ]
  },
  {
   "cell_type": "markdown",
   "id": "ff49cf7c",
   "metadata": {},
   "source": [
    "1. Data prepare and load\n",
    "2. Build model\n",
    "3. Fitting the model to data (training)\n",
    "4. Making prediction and evaluating a model\n",
    "5. Saving and loading a model\n",
    "6. Putting it all together"
   ]
  },
  {
   "cell_type": "markdown",
   "id": "4340e15c",
   "metadata": {},
   "source": [
    "torch.nn"
   ]
  },
  {
   "cell_type": "code",
   "execution_count": 2,
   "id": "6b125463",
   "metadata": {},
   "outputs": [
    {
     "data": {
      "text/plain": [
       "'2.7.0+cu126'"
      ]
     },
     "execution_count": 2,
     "metadata": {},
     "output_type": "execute_result"
    }
   ],
   "source": [
    "import torch\n",
    "from torch import nn #nn for neural network\n",
    "import matplotlib.pyplot as plt\n",
    "\n",
    "torch.__version__"
   ]
  },
  {
   "cell_type": "markdown",
   "id": "5cb1246c",
   "metadata": {},
   "source": [
    "Data preparing and loading"
   ]
  },
  {
   "cell_type": "markdown",
   "id": "65b59924",
   "metadata": {},
   "source": [
    "Linear regression known parameters"
   ]
  },
  {
   "cell_type": "code",
   "execution_count": 3,
   "id": "88515c29",
   "metadata": {},
   "outputs": [
    {
     "data": {
      "text/plain": [
       "(tensor([[0.0000],\n",
       "         [0.0200],\n",
       "         [0.0400],\n",
       "         [0.0600],\n",
       "         [0.0800],\n",
       "         [0.1000],\n",
       "         [0.1200],\n",
       "         [0.1400],\n",
       "         [0.1600],\n",
       "         [0.1800]]),\n",
       " tensor([[0.3000],\n",
       "         [0.3140],\n",
       "         [0.3280],\n",
       "         [0.3420],\n",
       "         [0.3560],\n",
       "         [0.3700],\n",
       "         [0.3840],\n",
       "         [0.3980],\n",
       "         [0.4120],\n",
       "         [0.4260]]))"
      ]
     },
     "execution_count": 3,
     "metadata": {},
     "output_type": "execute_result"
    }
   ],
   "source": [
    "weight = 0.7\n",
    "bias = 0.3\n",
    "\n",
    "start = 0\n",
    "end = 1\n",
    "step = 0.02\n",
    "x = torch.arange(start, end, step).unsqueeze(dim=1)\n",
    "y = weight*x + bias\n",
    "x[:10], y[:10]"
   ]
  },
  {
   "cell_type": "code",
   "execution_count": 4,
   "id": "d2f17b37",
   "metadata": {},
   "outputs": [
    {
     "data": {
      "text/plain": [
       "(50, 50)"
      ]
     },
     "execution_count": 4,
     "metadata": {},
     "output_type": "execute_result"
    }
   ],
   "source": [
    "len(x), len(y)"
   ]
  },
  {
   "cell_type": "markdown",
   "id": "99b09e4e",
   "metadata": {},
   "source": [
    "Splitting the data"
   ]
  },
  {
   "cell_type": "code",
   "execution_count": 5,
   "id": "29e9a6bd",
   "metadata": {},
   "outputs": [
    {
     "data": {
      "text/plain": [
       "(40, 40, 10, 10)"
      ]
     },
     "execution_count": 5,
     "metadata": {},
     "output_type": "execute_result"
    }
   ],
   "source": [
    "train = int(0.8*len(x))\n",
    "x_train, y_train = x[:train], y[:train]\n",
    "x_test, y_test = x[train:], y[train:]\n",
    "len(x_train), len(y_train), len(x_test), len(y_test)"
   ]
  },
  {
   "cell_type": "markdown",
   "id": "fd05a8d2",
   "metadata": {},
   "source": [
    "Visualize the data"
   ]
  },
  {
   "cell_type": "code",
   "execution_count": 6,
   "id": "b1c92288",
   "metadata": {},
   "outputs": [],
   "source": [
    "def plot_predictions(train_data=x_train,\n",
    "                     train_label=y_train,\n",
    "                     test_data = x_test,\n",
    "                     test_label = y_test,\n",
    "                     predictions = None):\n",
    "    \"\"\"Plots training data, test data and compared predictions.\"\"\"\n",
    "\n",
    "    plt.figure(figsize=(10,7))\n",
    "    plt.scatter(train_data, train_label, c=\"b\", s=4, label=\"Training data\")\n",
    "\n",
    "    plt.scatter(test_data, test_label, c=\"g\", s=4, label=\"Testing data\")\n",
    "\n",
    "    if predictions is not None:\n",
    "        plt.scatter(test_data, predictions, c=\"r\", s=4, label = \"Predictions\")\n",
    "    plt.legend(prop={\"size\":14})"
   ]
  },
  {
   "cell_type": "code",
   "execution_count": 7,
   "id": "9b8023ae",
   "metadata": {},
   "outputs": [
    {
     "data": {
      "image/png": "[encoded data removed]",
      "text/plain": [
       "<Figure size 1000x700 with 1 Axes>"
      ]
     },
     "metadata": {},
     "output_type": "display_data"
    }
   ],
   "source": [
    "plot_predictions()"
   ]
  },
  {
   "cell_type": "markdown",
   "id": "8a1f9626",
   "metadata": {},
   "source": [
    "Build model\n",
    "nn.Module"
   ]
  },
  {
   "cell_type": "code",
   "execution_count": 8,
   "id": "c56ae186",
   "metadata": {},
   "outputs": [],
   "source": [
    "from torch import nn\n",
    "class LinearRegressionModel(nn.Module):\n",
    "    def __init__(self):\n",
    "        super().__init__()\n",
    "        self.weights = nn.Parameter(torch.randn(1,\n",
    "                                               requires_grad=True,\n",
    "                                               dtype=torch.float))\n",
    "        self.bias = nn.Parameter(torch.randn(1,\n",
    "                                             requires_grad=True,\n",
    "                                             dtype = torch.float))\n",
    "        \n",
    "        #Forward\n",
    "    def forward(self, x:torch.Tensor) -> torch.Tensor:\n",
    "        return self.weights * x + self.bias"
   ]
  },
  {
   "cell_type": "markdown",
   "id": "8b39cf0c",
   "metadata": {},
   "source": [
    "Checking the contents of our pytorch model\n",
    "5:22:0"
   ]
  },
  {
   "cell_type": "code",
   "execution_count": 9,
   "id": "ba1515fc",
   "metadata": {},
   "outputs": [],
   "source": [
    "class LinearRegressionModel1(nn.Module):\n",
    "    def __init__(self):\n",
    "        super().__init__()\n",
    "        self.weights = nn.Parameter(torch.randn(1, requires_grad=True, dtype=torch.float))\n",
    "        self.bias = nn.Parameter(torch.randn(1, requires_grad=True, dtype=torch.float))\n",
    "\n",
    "    def forward(self, x:torch.Tensor) -> torch.Tensor:\n",
    "        return self.weights*x + self.bias"
   ]
  },
  {
   "cell_type": "code",
   "execution_count": 10,
   "id": "14563018",
   "metadata": {},
   "outputs": [
    {
     "data": {
      "text/plain": [
       "tensor([-1.7686])"
      ]
     },
     "execution_count": 10,
     "metadata": {},
     "output_type": "execute_result"
    }
   ],
   "source": [
    "torch.randn(1)"
   ]
  },
  {
   "cell_type": "code",
   "execution_count": 11,
   "id": "38da8a0e",
   "metadata": {},
   "outputs": [
    {
     "data": {
      "text/plain": [
       "[Parameter containing:\n",
       " tensor([0.3367], requires_grad=True),\n",
       " Parameter containing:\n",
       " tensor([0.1288], requires_grad=True)]"
      ]
     },
     "execution_count": 11,
     "metadata": {},
     "output_type": "execute_result"
    }
   ],
   "source": [
    "torch.manual_seed(42)\n",
    "model_0 = LinearRegressionModel()\n",
    "list(model_0.parameters())"
   ]
  },
  {
   "cell_type": "code",
   "execution_count": 12,
   "id": "36463eb7",
   "metadata": {},
   "outputs": [
    {
     "data": {
      "text/plain": [
       "OrderedDict([('weights', tensor([0.3367])), ('bias', tensor([0.1288]))])"
      ]
     },
     "execution_count": 12,
     "metadata": {},
     "output_type": "execute_result"
    }
   ],
   "source": [
    "model_0.state_dict()"
   ]
  },
  {
   "cell_type": "code",
   "execution_count": 13,
   "id": "67d52bdf",
   "metadata": {},
   "outputs": [
    {
     "data": {
      "text/plain": [
       "(0.7, 0.3)"
      ]
     },
     "execution_count": 13,
     "metadata": {},
     "output_type": "execute_result"
    }
   ],
   "source": [
    "weight, bias"
   ]
  },
  {
   "cell_type": "markdown",
   "id": "fa3a6e2a",
   "metadata": {},
   "source": [
    "Prediction"
   ]
  },
  {
   "cell_type": "code",
   "execution_count": 14,
   "id": "f99b0370",
   "metadata": {},
   "outputs": [
    {
     "data": {
      "text/plain": [
       "(tensor([[0.8000],\n",
       "         [0.8200],\n",
       "         [0.8400],\n",
       "         [0.8600],\n",
       "         [0.8800],\n",
       "         [0.9000],\n",
       "         [0.9200],\n",
       "         [0.9400],\n",
       "         [0.9600],\n",
       "         [0.9800]]),\n",
       " tensor([[0.8600],\n",
       "         [0.8740],\n",
       "         [0.8880],\n",
       "         [0.9020],\n",
       "         [0.9160],\n",
       "         [0.9300],\n",
       "         [0.9440],\n",
       "         [0.9580],\n",
       "         [0.9720],\n",
       "         [0.9860]]))"
      ]
     },
     "execution_count": 14,
     "metadata": {},
     "output_type": "execute_result"
    }
   ],
   "source": [
    "x_test, y_test"
   ]
  },
  {
   "cell_type": "code",
   "execution_count": 15,
   "id": "d760420f",
   "metadata": {},
   "outputs": [
    {
     "data": {
      "text/plain": [
       "tensor([[0.3982],\n",
       "        [0.4049],\n",
       "        [0.4116],\n",
       "        [0.4184],\n",
       "        [0.4251],\n",
       "        [0.4318],\n",
       "        [0.4386],\n",
       "        [0.4453],\n",
       "        [0.4520],\n",
       "        [0.4588]], grad_fn=<AddBackward0>)"
      ]
     },
     "execution_count": 15,
     "metadata": {},
     "output_type": "execute_result"
    }
   ],
   "source": [
    "y_preds = model_0(x_test)\n",
    "y_preds"
   ]
  },
  {
   "cell_type": "code",
   "execution_count": 16,
   "id": "63c7089f",
   "metadata": {},
   "outputs": [
    {
     "data": {
      "text/plain": [
       "tensor([[0.3982],\n",
       "        [0.4049],\n",
       "        [0.4116],\n",
       "        [0.4184],\n",
       "        [0.4251],\n",
       "        [0.4318],\n",
       "        [0.4386],\n",
       "        [0.4453],\n",
       "        [0.4520],\n",
       "        [0.4588]])"
      ]
     },
     "execution_count": 16,
     "metadata": {},
     "output_type": "execute_result"
    }
   ],
   "source": [
    "\n",
    "#Its better\n",
    "with torch.inference_mode():\n",
    "    y_preds = model_0(x_test)\n",
    "y_preds"
   ]
  },
  {
   "cell_type": "code",
   "execution_count": 17,
   "id": "4a8d9bf3",
   "metadata": {},
   "outputs": [
    {
     "data": {
      "text/plain": [
       "tensor([[0.3982],\n",
       "        [0.4049],\n",
       "        [0.4116],\n",
       "        [0.4184],\n",
       "        [0.4251],\n",
       "        [0.4318],\n",
       "        [0.4386],\n",
       "        [0.4453],\n",
       "        [0.4520],\n",
       "        [0.4588]])"
      ]
     },
     "execution_count": 17,
     "metadata": {},
     "output_type": "execute_result"
    }
   ],
   "source": [
    "with torch.no_grad():\n",
    "    y_preds = model_0(x_test)\n",
    "y_preds"
   ]
  },
  {
   "cell_type": "code",
   "execution_count": 18,
   "id": "31d577ff",
   "metadata": {},
   "outputs": [
    {
     "data": {
      "image/png": "[encoded data removed]",
      "text/plain": [
       "<Figure size 1000x700 with 1 Axes>"
      ]
     },
     "metadata": {},
     "output_type": "display_data"
    }
   ],
   "source": [
    "plot_predictions(predictions=y_preds)"
   ]
  },
  {
   "cell_type": "markdown",
   "id": "fd403855",
   "metadata": {},
   "source": [
    "*Model Train"
   ]
  },
  {
   "cell_type": "code",
   "execution_count": 19,
   "id": "a3557d2d",
   "metadata": {},
   "outputs": [
    {
     "data": {
      "text/plain": [
       "[Parameter containing:\n",
       " tensor([0.3367], requires_grad=True),\n",
       " Parameter containing:\n",
       " tensor([0.1288], requires_grad=True)]"
      ]
     },
     "execution_count": 19,
     "metadata": {},
     "output_type": "execute_result"
    }
   ],
   "source": [
    "list(model_0.parameters())"
   ]
  },
  {
   "cell_type": "code",
   "execution_count": 20,
   "id": "db0e1145",
   "metadata": {},
   "outputs": [
    {
     "data": {
      "text/plain": [
       "OrderedDict([('weights', tensor([0.3367])), ('bias', tensor([0.1288]))])"
      ]
     },
     "execution_count": 20,
     "metadata": {},
     "output_type": "execute_result"
    }
   ],
   "source": [
    "model_0.state_dict()"
   ]
  },
  {
   "cell_type": "markdown",
   "id": "dc1cfcd1",
   "metadata": {},
   "source": [
    "6:2:0"
   ]
  },
  {
   "cell_type": "code",
   "execution_count": 21,
   "id": "71f75c2a",
   "metadata": {},
   "outputs": [],
   "source": [
    "#loss function\n",
    "loss_fn = nn.L1Loss()\n",
    "\n",
    "#optimizer torch.optim\n",
    "#stochastic gradiant descent\n",
    "optimizer = torch.optim.SGD(params=model_0.parameters(),\n",
    "                            lr= 0.01)\n"
   ]
  },
  {
   "cell_type": "markdown",
   "id": "f8c46a19",
   "metadata": {},
   "source": [
    "Building training loop"
   ]
  },
  {
   "cell_type": "code",
   "execution_count": 22,
   "id": "9a9ae406",
   "metadata": {},
   "outputs": [
    {
     "data": {
      "text/plain": [
       "[Parameter containing:\n",
       " tensor([0.3367], requires_grad=True),\n",
       " Parameter containing:\n",
       " tensor([0.1288], requires_grad=True)]"
      ]
     },
     "execution_count": 22,
     "metadata": {},
     "output_type": "execute_result"
    }
   ],
   "source": [
    "with torch.inference_mode():\n",
    "    list(model_0.parameters())\n",
    "list(model_0.parameters())"
   ]
  },
  {
   "cell_type": "code",
   "execution_count": 23,
   "id": "44ad8b7d",
   "metadata": {},
   "outputs": [
    {
     "data": {
      "text/plain": [
       "[Parameter containing:\n",
       " tensor([0.3367], requires_grad=True),\n",
       " Parameter containing:\n",
       " tensor([0.1288], requires_grad=True)]"
      ]
     },
     "execution_count": 23,
     "metadata": {},
     "output_type": "execute_result"
    }
   ],
   "source": [
    "list(model_0.eval().parameters())"
   ]
  },
  {
   "cell_type": "code",
   "execution_count": 24,
   "id": "1f678aaf",
   "metadata": {},
   "outputs": [],
   "source": [
    "epochs = 10\n",
    "#0. Loop through data\n",
    "for epoch in range(epochs):\n",
    "    model_0.train()\n",
    "    #1. Forward pass\n",
    "    y_pred = model_0(x_train)\n",
    "\n",
    "    #2. Calculate loss\n",
    "    loss = loss_fn(y_pred, y_train)\n",
    "\n",
    "    #3. Oprimizer \n",
    "    optimizer.zero_grad()\n",
    "\n",
    "    #4. Perform backward propagation\n",
    "    loss.backward()\n",
    "\n",
    "    #5. Optimizer\n",
    "    optimizer.step()\n",
    "\n",
    "    #testing\n",
    "    model_0.eval()"
   ]
  },
  {
   "cell_type": "code",
   "execution_count": 25,
   "id": "1ffb7317",
   "metadata": {},
   "outputs": [],
   "source": [
    "with torch.inference_mode():\n",
    "    y_pred_new = model_0(x_test)"
   ]
  },
  {
   "cell_type": "code",
   "execution_count": 26,
   "id": "ae46ab12",
   "metadata": {},
   "outputs": [
    {
     "data": {
      "image/png": "[encoded data removed]",
      "text/plain": [
       "<Figure size 1000x700 with 1 Axes>"
      ]
     },
     "metadata": {},
     "output_type": "display_data"
    }
   ],
   "source": [
    "plot_predictions(predictions = y_pred_new)"
   ]
  },
  {
   "cell_type": "code",
   "execution_count": 27,
   "id": "f45027aa",
   "metadata": {},
   "outputs": [
    {
     "data": {
      "text/plain": [
       "OrderedDict([('weights', tensor([0.3757])), ('bias', tensor([0.2288]))])"
      ]
     },
     "execution_count": 27,
     "metadata": {},
     "output_type": "execute_result"
    }
   ],
   "source": [
    "model_0.state_dict()"
   ]
  },
  {
   "cell_type": "code",
   "execution_count": 36,
   "id": "e2477ee6",
   "metadata": {},
   "outputs": [
    {
     "name": "stdout",
     "output_type": "stream",
     "text": [
      "Epoch : 0 | MAE Train Loss : 0.021020207554101944 | MAE Test loss : 0.04819049686193466\n",
      "OrderedDict({'weights': tensor([0.5972]), 'bias': tensor([0.3433])})\n",
      "Epoch : 10 | MAE Train Loss : 0.01758546568453312 | MAE Test loss : 0.04060482233762741\n",
      "OrderedDict({'weights': tensor([0.6141]), 'bias': tensor([0.3358])})\n",
      "Epoch : 20 | MAE Train Loss : 0.014155393466353416 | MAE Test loss : 0.03233227878808975\n",
      "OrderedDict({'weights': tensor([0.6313]), 'bias': tensor([0.3288])})\n",
      "Epoch : 30 | MAE Train Loss : 0.010716589167714119 | MAE Test loss : 0.024059748277068138\n",
      "OrderedDict({'weights': tensor([0.6485]), 'bias': tensor([0.3218])})\n",
      "Epoch : 40 | MAE Train Loss : 0.0072835334576666355 | MAE Test loss : 0.016474086791276932\n",
      "OrderedDict({'weights': tensor([0.6654]), 'bias': tensor([0.3143])})\n",
      "Epoch : 50 | MAE Train Loss : 0.0038517764769494534 | MAE Test loss : 0.008201557211577892\n",
      "OrderedDict({'weights': tensor([0.6826]), 'bias': tensor([0.3073])})\n",
      "Epoch : 60 | MAE Train Loss : 0.008932482451200485 | MAE Test loss : 0.005023092031478882\n",
      "OrderedDict({'weights': tensor([0.6951]), 'bias': tensor([0.2993])})\n",
      "Epoch : 70 | MAE Train Loss : 0.008932482451200485 | MAE Test loss : 0.005023092031478882\n",
      "OrderedDict({'weights': tensor([0.6951]), 'bias': tensor([0.2993])})\n",
      "Epoch : 80 | MAE Train Loss : 0.008932482451200485 | MAE Test loss : 0.005023092031478882\n",
      "OrderedDict({'weights': tensor([0.6951]), 'bias': tensor([0.2993])})\n",
      "Epoch : 90 | MAE Train Loss : 0.008932482451200485 | MAE Test loss : 0.005023092031478882\n",
      "OrderedDict({'weights': tensor([0.6951]), 'bias': tensor([0.2993])})\n",
      "Epoch : 100 | MAE Train Loss : 0.008932482451200485 | MAE Test loss : 0.005023092031478882\n",
      "OrderedDict({'weights': tensor([0.6951]), 'bias': tensor([0.2993])})\n",
      "Epoch : 110 | MAE Train Loss : 0.008932482451200485 | MAE Test loss : 0.005023092031478882\n",
      "OrderedDict({'weights': tensor([0.6951]), 'bias': tensor([0.2993])})\n",
      "Epoch : 120 | MAE Train Loss : 0.008932482451200485 | MAE Test loss : 0.005023092031478882\n",
      "OrderedDict({'weights': tensor([0.6951]), 'bias': tensor([0.2993])})\n",
      "Epoch : 130 | MAE Train Loss : 0.008932482451200485 | MAE Test loss : 0.005023092031478882\n",
      "OrderedDict({'weights': tensor([0.6951]), 'bias': tensor([0.2993])})\n",
      "Epoch : 140 | MAE Train Loss : 0.008932482451200485 | MAE Test loss : 0.005023092031478882\n",
      "OrderedDict({'weights': tensor([0.6951]), 'bias': tensor([0.2993])})\n",
      "Epoch : 150 | MAE Train Loss : 0.008932482451200485 | MAE Test loss : 0.005023092031478882\n",
      "OrderedDict({'weights': tensor([0.6951]), 'bias': tensor([0.2993])})\n",
      "Epoch : 160 | MAE Train Loss : 0.008932482451200485 | MAE Test loss : 0.005023092031478882\n",
      "OrderedDict({'weights': tensor([0.6951]), 'bias': tensor([0.2993])})\n",
      "Epoch : 170 | MAE Train Loss : 0.008932482451200485 | MAE Test loss : 0.005023092031478882\n",
      "OrderedDict({'weights': tensor([0.6951]), 'bias': tensor([0.2993])})\n",
      "Epoch : 180 | MAE Train Loss : 0.008932482451200485 | MAE Test loss : 0.005023092031478882\n",
      "OrderedDict({'weights': tensor([0.6951]), 'bias': tensor([0.2993])})\n",
      "Epoch : 190 | MAE Train Loss : 0.008932482451200485 | MAE Test loss : 0.005023092031478882\n",
      "OrderedDict({'weights': tensor([0.6951]), 'bias': tensor([0.2993])})\n"
     ]
    }
   ],
   "source": [
    "torch.manual_seed(42)\n",
    "epochs = 200\n",
    "epoch_count = []\n",
    "train_loss_values= []\n",
    "test_loss_values = []\n",
    "for epoch in range(epochs):\n",
    "    \n",
    "    model_0.train()\n",
    "    y_pred = model_0(x_train)\n",
    "\n",
    "    loss = loss_fn(y_pred, y_train)\n",
    "\n",
    "    optimizer.zero_grad()\n",
    "\n",
    "    loss.backward()\n",
    "\n",
    "    optimizer.step()\n",
    "\n",
    "    model_0.eval()\n",
    "    with torch.inference_mode():\n",
    "        test_pred = model_0(x_test)\n",
    "        test_loss = loss_fn(test_pred, y_test)\n",
    "        \n",
    "    if epoch%10==0:\n",
    "        epoch_count.append(epoch)\n",
    "        train_loss_values.append(loss)\n",
    "        test_loss_values.append(test_loss)\n",
    "        print(f\"Epoch : {epoch} | MAE Train Loss : {loss} | MAE Test loss : {test_loss}\")\n",
    "        print(model_0.state_dict())"
   ]
  },
  {
   "cell_type": "code",
   "execution_count": 37,
   "id": "72b0eb16",
   "metadata": {},
   "outputs": [
    {
     "data": {
      "text/plain": [
       "array([0.02102021, 0.01758547, 0.01415539, 0.01071659, 0.00728353,\n",
       "       0.00385178, 0.00893248, 0.00893248, 0.00893248, 0.00893248,\n",
       "       0.00893248, 0.00893248, 0.00893248, 0.00893248, 0.00893248,\n",
       "       0.00893248, 0.00893248, 0.00893248, 0.00893248, 0.00893248],\n",
       "      dtype=float32)"
      ]
     },
     "execution_count": 37,
     "metadata": {},
     "output_type": "execute_result"
    }
   ],
   "source": [
    "import numpy as np\n",
    "np.array(torch.tensor(train_loss_values).cpu().numpy())"
   ]
  },
  {
   "cell_type": "code",
   "execution_count": 38,
   "id": "b30213a1",
   "metadata": {},
   "outputs": [
    {
     "data": {
      "text/plain": [
       "<matplotlib.legend.Legend at 0x7f18b8559bd0>"
      ]
     },
     "execution_count": 38,
     "metadata": {},
     "output_type": "execute_result"
    },
    {
     "data": {
      "image/png": "[encoded data removed]",
      "text/plain": [
       "<Figure size 640x480 with 1 Axes>"
      ]
     },
     "metadata": {},
     "output_type": "display_data"
    }
   ],
   "source": [
    "plt.plot(epoch_count, np.array(torch.tensor(train_loss_values).cpu().numpy()), label=\"Train Loss\")\n",
    "plt.plot(epoch_count, test_loss_values, label=\"Test Loss\")\n",
    "plt.title(\"Training and test loss values\")\n",
    "plt.ylabel(\"Loss\")\n",
    "plt.xlabel(\"Epoch\")\n",
    "plt.legend()"
   ]
  },
  {
   "cell_type": "code",
   "execution_count": 39,
   "id": "dd339b0a",
   "metadata": {},
   "outputs": [],
   "source": [
    "with torch.inference_mode():\n",
    "    y_preds_new = model_0(x_test)"
   ]
  },
  {
   "cell_type": "code",
   "execution_count": 40,
   "id": "dc02ea84",
   "metadata": {},
   "outputs": [
    {
     "data": {
      "text/plain": [
       "OrderedDict([('weights', tensor([0.6990])), ('bias', tensor([0.3093]))])"
      ]
     },
     "execution_count": 40,
     "metadata": {},
     "output_type": "execute_result"
    }
   ],
   "source": [
    "model_0.state_dict()"
   ]
  },
  {
   "cell_type": "code",
   "execution_count": 41,
   "id": "2b3ffc5e",
   "metadata": {},
   "outputs": [
    {
     "data": {
      "text/plain": [
       "(0.7, 0.3)"
      ]
     },
     "execution_count": 41,
     "metadata": {},
     "output_type": "execute_result"
    }
   ],
   "source": [
    "weight, bias"
   ]
  },
  {
   "cell_type": "code",
   "execution_count": 42,
   "id": "69ece34d",
   "metadata": {},
   "outputs": [
    {
     "data": {
      "image/png": "[encoded data removed]",
      "text/plain": [
       "<Figure size 1000x700 with 1 Axes>"
      ]
     },
     "metadata": {},
     "output_type": "display_data"
    }
   ],
   "source": [
    "plot_predictions(predictions=y_preds)"
   ]
  },
  {
   "cell_type": "code",
   "execution_count": 43,
   "id": "0355cc6d",
   "metadata": {},
   "outputs": [
    {
     "data": {
      "image/png": "[encoded data removed]",
      "text/plain": [
       "<Figure size 1000x700 with 1 Axes>"
      ]
     },
     "metadata": {},
     "output_type": "display_data"
    }
   ],
   "source": [
    "plot_predictions(predictions=y_preds_new)"
   ]
  },
  {
   "cell_type": "markdown",
   "id": "fd699b4e",
   "metadata": {},
   "source": [
    "completed 7.15 hours"
   ]
  },
  {
   "cell_type": "markdown",
   "id": "3d0ac6da",
   "metadata": {},
   "source": [
    "Saving a model in PyTorch\n",
    "There are three different methods to save\n",
    "1. torch.save() -> allows to save in pickle format\n",
    "2. torch.load() -> allows to load a save PyTorch object\n",
    "3. torch.nn.Module.load_state_dict() -> load a models saved state dictionary"
   ]
  },
  {
   "cell_type": "markdown",
   "id": "797eb271",
   "metadata": {},
   "source": [
    "Save"
   ]
  },
  {
   "cell_type": "code",
   "execution_count": 47,
   "id": "9eaf2193",
   "metadata": {},
   "outputs": [
    {
     "name": "stdout",
     "output_type": "stream",
     "text": [
      "Saving model to : models/Pytorch_Workflow_01.pth\n"
     ]
    }
   ],
   "source": [
    "from pathlib import Path\n",
    "#create model directory\n",
    "MODEL_PATH = Path(\"models\")\n",
    "MODEL_PATH.mkdir(parents=True, exist_ok=True)\n",
    "\n",
    "#model save path\n",
    "MODEL_NAME = \"Pytorch_Workflow_01.pth\"\n",
    "MODEL_SAVE_PATH = MODEL_PATH/MODEL_NAME\n",
    "\n",
    "#save the model stat_dict\n",
    "print(f\"Saving model to : {MODEL_SAVE_PATH}\")\n",
    "torch.save(obj=model_0.state_dict(),\n",
    "           f=MODEL_SAVE_PATH)"
   ]
  },
  {
   "cell_type": "markdown",
   "id": "52a8a0f6",
   "metadata": {},
   "source": [
    "7.29 hours"
   ]
  },
  {
   "cell_type": "markdown",
   "id": "2744c81a",
   "metadata": {},
   "source": [
    "Loading PyTorch Model from previous saved"
   ]
  },
  {
   "cell_type": "code",
   "execution_count": 50,
   "id": "706adea1",
   "metadata": {},
   "outputs": [
    {
     "data": {
      "text/plain": [
       "OrderedDict([('weights', tensor([0.6990])), ('bias', tensor([0.3093]))])"
      ]
     },
     "execution_count": 50,
     "metadata": {},
     "output_type": "execute_result"
    }
   ],
   "source": [
    "model_0.state_dict()"
   ]
  },
  {
   "cell_type": "code",
   "execution_count": 51,
   "id": "8d3ee26c",
   "metadata": {},
   "outputs": [
    {
     "data": {
      "text/plain": [
       "<All keys matched successfully>"
      ]
     },
     "execution_count": 51,
     "metadata": {},
     "output_type": "execute_result"
    }
   ],
   "source": [
    "loaded_model_0 = LinearRegressionModel()\n",
    "loaded_model_0.load_state_dict(torch.load(f=MODEL_SAVE_PATH))"
   ]
  },
  {
   "cell_type": "code",
   "execution_count": 52,
   "id": "bd7e94db",
   "metadata": {},
   "outputs": [
    {
     "data": {
      "text/plain": [
       "OrderedDict([('weights', tensor([0.6990])), ('bias', tensor([0.3093]))])"
      ]
     },
     "execution_count": 52,
     "metadata": {},
     "output_type": "execute_result"
    }
   ],
   "source": [
    "loaded_model_0.state_dict()"
   ]
  },
  {
   "cell_type": "code",
   "execution_count": 53,
   "id": "05d6a90d",
   "metadata": {},
   "outputs": [
    {
     "data": {
      "text/plain": [
       "tensor([[0.8685],\n",
       "        [0.8825],\n",
       "        [0.8965],\n",
       "        [0.9105],\n",
       "        [0.9245],\n",
       "        [0.9384],\n",
       "        [0.9524],\n",
       "        [0.9664],\n",
       "        [0.9804],\n",
       "        [0.9944]])"
      ]
     },
     "execution_count": 53,
     "metadata": {},
     "output_type": "execute_result"
    }
   ],
   "source": [
    "loaded_model_0.eval()\n",
    "with torch.inference_mode():\n",
    "    loaded_model_preds = loaded_model_0(x_test)\n",
    "loaded_model_preds"
   ]
  },
  {
   "cell_type": "code",
   "execution_count": 54,
   "id": "b4592525",
   "metadata": {},
   "outputs": [
    {
     "data": {
      "text/plain": [
       "tensor([[0.8685],\n",
       "        [0.8825],\n",
       "        [0.8965],\n",
       "        [0.9105],\n",
       "        [0.9245],\n",
       "        [0.9384],\n",
       "        [0.9524],\n",
       "        [0.9664],\n",
       "        [0.9804],\n",
       "        [0.9944]])"
      ]
     },
     "execution_count": 54,
     "metadata": {},
     "output_type": "execute_result"
    }
   ],
   "source": [
    "model_0.eval()\n",
    "with torch.inference_mode():\n",
    "    y_preds = model_0(x_test)\n",
    "y_preds"
   ]
  },
  {
   "cell_type": "code",
   "execution_count": 55,
   "id": "c2fd5c6a",
   "metadata": {},
   "outputs": [
    {
     "data": {
      "text/plain": [
       "tensor([[True],\n",
       "        [True],\n",
       "        [True],\n",
       "        [True],\n",
       "        [True],\n",
       "        [True],\n",
       "        [True],\n",
       "        [True],\n",
       "        [True],\n",
       "        [True]])"
      ]
     },
     "execution_count": 55,
     "metadata": {},
     "output_type": "execute_result"
    }
   ],
   "source": [
    "y_preds==loaded_model_preds"
   ]
  },
  {
   "cell_type": "markdown",
   "id": "4d917529",
   "metadata": {},
   "source": [
    "7.38 hours"
   ]
  },
  {
   "cell_type": "markdown",
   "id": "0b1072ef",
   "metadata": {},
   "source": [
    "Putting it all together"
   ]
  },
  {
   "cell_type": "code",
   "execution_count": 1,
   "id": "b921afda",
   "metadata": {},
   "outputs": [
    {
     "data": {
      "text/plain": [
       "'2.7.0+cu126'"
      ]
     },
     "execution_count": 1,
     "metadata": {},
     "output_type": "execute_result"
    }
   ],
   "source": [
    "import torch\n",
    "import matplotlib.pyplot as plt \n",
    "from torch import nn\n",
    "torch.__version__"
   ]
  },
  {
   "cell_type": "code",
   "execution_count": 2,
   "id": "96b0f648",
   "metadata": {},
   "outputs": [
    {
     "name": "stdout",
     "output_type": "stream",
     "text": [
      "device use : cuda\n"
     ]
    }
   ],
   "source": [
    "device = \"cuda\" if torch.cuda.is_available() else \"cpu\"\n",
    "print(f\"device use : {device}\")"
   ]
  },
  {
   "cell_type": "code",
   "execution_count": 3,
   "id": "11ae7a0f",
   "metadata": {},
   "outputs": [
    {
     "name": "stdout",
     "output_type": "stream",
     "text": [
      "Mon May 26 15:39:40 2025       \n",
      "+---------------------------------------------------------------------------------------+\n",
      "| NVIDIA-SMI 535.247.01             Driver Version: 535.247.01   CUDA Version: 12.2     |\n",
      "|-----------------------------------------+----------------------+----------------------+\n",
      "| GPU  Name                 Persistence-M | Bus-Id        Disp.A | Volatile Uncorr. ECC |\n",
      "| Fan  Temp   Perf          Pwr:Usage/Cap |         Memory-Usage | GPU-Util  Compute M. |\n",
      "|                                         |                      |               MIG M. |\n",
      "|=========================================+======================+======================|\n",
      "|   0  NVIDIA GeForce MX130           Off | 00000000:06:00.0 Off |                  N/A |\n",
      "| N/A   52C    P8              N/A / 200W |     11MiB /  2048MiB |      0%      Default |\n",
      "|                                         |                      |                  N/A |\n",
      "+-----------------------------------------+----------------------+----------------------+\n",
      "                                                                                         \n",
      "+---------------------------------------------------------------------------------------+\n",
      "| Processes:                                                                            |\n",
      "|  GPU   GI   CI        PID   Type   Process name                            GPU Memory |\n",
      "|        ID   ID                                                             Usage      |\n",
      "|=======================================================================================|\n",
      "|    0   N/A  N/A      2266      G   /usr/lib/xorg/Xorg                            2MiB |\n",
      "|    0   N/A  N/A      2733    C+G   /usr/bin/anydesk                              2MiB |\n",
      "+---------------------------------------------------------------------------------------+\n"
     ]
    }
   ],
   "source": [
    "!nvidia-smi"
   ]
  },
  {
   "cell_type": "markdown",
   "id": "f6cfb051",
   "metadata": {},
   "source": [
    "Data"
   ]
  },
  {
   "cell_type": "code",
   "execution_count": 4,
   "id": "d86a7286",
   "metadata": {},
   "outputs": [
    {
     "data": {
      "text/plain": [
       "(tensor([[0.0000],\n",
       "         [0.0200],\n",
       "         [0.0400],\n",
       "         [0.0600],\n",
       "         [0.0800],\n",
       "         [0.1000],\n",
       "         [0.1200],\n",
       "         [0.1400],\n",
       "         [0.1600],\n",
       "         [0.1800]]),\n",
       " tensor([[0.6000],\n",
       "         [0.6180],\n",
       "         [0.6360],\n",
       "         [0.6540],\n",
       "         [0.6720],\n",
       "         [0.6900],\n",
       "         [0.7080],\n",
       "         [0.7260],\n",
       "         [0.7440],\n",
       "         [0.7620]]))"
      ]
     },
     "execution_count": 4,
     "metadata": {},
     "output_type": "execute_result"
    }
   ],
   "source": [
    "weight = 0.9\n",
    "bias = 0.6\n",
    "\n",
    "start = 0\n",
    "end = 2\n",
    "step = 0.02\n",
    "\n",
    "x = torch.arange(start, end, step).unsqueeze(dim=1)\n",
    "y = weight*x+bias\n",
    "x[:10], y[:10]"
   ]
  },
  {
   "cell_type": "code",
   "execution_count": 5,
   "id": "6cb49bce",
   "metadata": {},
   "outputs": [
    {
     "data": {
      "text/plain": [
       "(80, 80, 20, 20)"
      ]
     },
     "execution_count": 5,
     "metadata": {},
     "output_type": "execute_result"
    }
   ],
   "source": [
    "train_split = int(0.8*len(x))\n",
    "x_train, y_train = x[:train_split], y[:train_split]\n",
    "x_test, y_test = x[train_split:], y[train_split:]\n",
    "len(x_train), len(y_train), len(x_test), len(y_test)"
   ]
  },
  {
   "cell_type": "code",
   "execution_count": 6,
   "id": "dad40aa2",
   "metadata": {},
   "outputs": [],
   "source": [
    "def plot_predictions(train_data=x_train,\n",
    "                     train_label=y_train,\n",
    "                     test_data = x_test,\n",
    "                     test_label = y_test,\n",
    "                     predictions = None):\n",
    "    \"\"\"Plots training data, test data and compared predictions.\"\"\"\n",
    "\n",
    "    plt.figure(figsize=(10,7))\n",
    "    plt.scatter(train_data, train_label, c=\"b\", s=4, label=\"Training data\")\n",
    "\n",
    "    plt.scatter(test_data, test_label, c=\"g\", s=4, label=\"Testing data\")\n",
    "\n",
    "    if predictions is not None:\n",
    "        plt.scatter(test_data, predictions, c=\"r\", s=4, label = \"Predictions\")\n",
    "    plt.legend(prop={\"size\":14})"
   ]
  },
  {
   "cell_type": "code",
   "execution_count": 66,
   "id": "03e7d13d",
   "metadata": {},
   "outputs": [
    {
     "data": {
      "image/png": "[encoded data removed]",
      "text/plain": [
       "<Figure size 1000x700 with 1 Axes>"
      ]
     },
     "metadata": {},
     "output_type": "display_data"
    }
   ],
   "source": [
    "plot_predictions(x_train, y_train, x_test, y_test)"
   ]
  },
  {
   "cell_type": "code",
   "execution_count": null,
   "id": "9494409a",
   "metadata": {},
   "outputs": [],
   "source": [
    "class LinearRegressionModelV2(nn.Module):\n",
    "    def __init__(self):\n",
    "        super().__init__()\n",
    "        self.linear_layer = nn.Linear(in_features=1, out_features=1)\n",
    "\n",
    "    def forward(self, x:torch.Tensor) -> torch.Tensor:\n",
    "        return self.linear_layer(x)\n",
    "            \n",
    "  "
   ]
  },
  {
   "cell_type": "code",
   "execution_count": 8,
   "id": "c623f416",
   "metadata": {},
   "outputs": [
    {
     "data": {
      "text/plain": [
       "(LinearRegressionModelV2(\n",
       "   (linear_layer): Linear(in_features=1, out_features=1, bias=True)\n",
       " ),\n",
       " OrderedDict([('linear_layer.weight', tensor([[0.7645]])),\n",
       "              ('linear_layer.bias', tensor([0.8300]))]))"
      ]
     },
     "execution_count": 8,
     "metadata": {},
     "output_type": "execute_result"
    }
   ],
   "source": [
    "torch.manual_seed(42)\n",
    "model_1 = LinearRegressionModelV2()\n",
    "model_1, model_1.state_dict()"
   ]
  },
  {
   "cell_type": "markdown",
   "id": "0eaf9750",
   "metadata": {},
   "source": [
    "8 hours"
   ]
  },
  {
   "cell_type": "code",
   "execution_count": 9,
   "id": "2f60c7b5",
   "metadata": {},
   "outputs": [
    {
     "data": {
      "text/plain": [
       "device(type='cpu')"
      ]
     },
     "execution_count": 9,
     "metadata": {},
     "output_type": "execute_result"
    }
   ],
   "source": [
    "next(model_1.parameters()).device"
   ]
  },
  {
   "cell_type": "code",
   "execution_count": 11,
   "id": "2d237a20",
   "metadata": {},
   "outputs": [
    {
     "data": {
      "text/plain": [
       "device(type='cuda', index=0)"
      ]
     },
     "execution_count": 11,
     "metadata": {},
     "output_type": "execute_result"
    }
   ],
   "source": [
    "model_1.to(device)\n",
    "next(model_1.parameters()).device"
   ]
  },
  {
   "cell_type": "markdown",
   "id": "79413f58",
   "metadata": {},
   "source": [
    "Training\n",
    "1. Loss function\n",
    "2. Optimizer\n",
    "3. Training Loop\n",
    "4. Testing loop"
   ]
  },
  {
   "cell_type": "code",
   "execution_count": 12,
   "id": "de4902f0",
   "metadata": {},
   "outputs": [],
   "source": [
    "loss_fn = nn.L1Loss()\n",
    "optimizer = torch.optim.SGD(params = model_1.parameters(),\n",
    "                            lr = 0.001)"
   ]
  },
  {
   "cell_type": "code",
   "execution_count": 22,
   "id": "a8b3d6d2",
   "metadata": {},
   "outputs": [
    {
     "name": "stdout",
     "output_type": "stream",
     "text": [
      "Epochs : 0 | Train Loss : 0.024628475308418274 | Test Loss: 0.0487007275223732\n",
      "Epochs : 10 | Train Loss : 0.023719405755400658 | Test Loss: 0.046926844865083694\n",
      "Epochs : 20 | Train Loss : 0.022809967398643494 | Test Loss: 0.0451529286801815\n",
      "Epochs : 30 | Train Loss : 0.021900847554206848 | Test Loss: 0.04331096634268761\n",
      "Epochs : 40 | Train Loss : 0.020991502329707146 | Test Loss: 0.04153705760836601\n",
      "Epochs : 50 | Train Loss : 0.020082291215658188 | Test Loss: 0.03969511017203331\n",
      "Epochs : 60 | Train Loss : 0.019173037260770798 | Test Loss: 0.037921227514743805\n",
      "Epochs : 70 | Train Loss : 0.018263738602399826 | Test Loss: 0.03607925400137901\n",
      "Epochs : 80 | Train Loss : 0.01735456846654415 | Test Loss: 0.03430532291531563\n",
      "Epochs : 90 | Train Loss : 0.016445187851786613 | Test Loss: 0.032463397830724716\n",
      "Epochs : 100 | Train Loss : 0.015536095015704632 | Test Loss: 0.03068949095904827\n",
      "Epochs : 110 | Train Loss : 0.014626634307205677 | Test Loss: 0.02884753979742527\n",
      "Epochs : 120 | Train Loss : 0.01371756475418806 | Test Loss: 0.027073657140135765\n",
      "Epochs : 130 | Train Loss : 0.012808076106011868 | Test Loss: 0.025231707841157913\n",
      "Epochs : 140 | Train Loss : 0.011898803524672985 | Test Loss: 0.0234238151460886\n",
      "Epochs : 150 | Train Loss : 0.010989734902977943 | Test Loss: 0.02164985053241253\n",
      "Epochs : 160 | Train Loss : 0.010080303065478802 | Test Loss: 0.01987597905099392\n",
      "Epochs : 170 | Train Loss : 0.009171178564429283 | Test Loss: 0.018034065142273903\n",
      "Epochs : 180 | Train Loss : 0.008261840790510178 | Test Loss: 0.016260122880339622\n",
      "Epochs : 190 | Train Loss : 0.007352623622864485 | Test Loss: 0.014418172650039196\n",
      "Epochs : 200 | Train Loss : 0.00644336873665452 | Test Loss: 0.0126442676410079\n",
      "Epochs : 210 | Train Loss : 0.005534069146960974 | Test Loss: 0.01080232858657837\n",
      "Epochs : 220 | Train Loss : 0.004624900873750448 | Test Loss: 0.009028411470353603\n",
      "Epochs : 230 | Train Loss : 0.003715515835210681 | Test Loss: 0.007186472415924072\n",
      "Epochs : 240 | Train Loss : 0.0028064304497092962 | Test Loss: 0.0054125310853123665\n",
      "Epochs : 250 | Train Loss : 0.0018969587981700897 | Test Loss: 0.0035705924965441227\n",
      "Epochs : 260 | Train Loss : 0.0009878933196887374 | Test Loss: 0.0017966866726055741\n",
      "Epochs : 270 | Train Loss : 0.0013633862836286426 | Test Loss: 4.838704990106635e-05\n",
      "Epochs : 280 | Train Loss : 0.0013633862836286426 | Test Loss: 4.838704990106635e-05\n",
      "Epochs : 290 | Train Loss : 0.0013633862836286426 | Test Loss: 4.838704990106635e-05\n",
      "Epochs : 300 | Train Loss : 0.0013633862836286426 | Test Loss: 4.838704990106635e-05\n",
      "Epochs : 310 | Train Loss : 0.0013633862836286426 | Test Loss: 4.838704990106635e-05\n",
      "Epochs : 320 | Train Loss : 0.0013633862836286426 | Test Loss: 4.838704990106635e-05\n",
      "Epochs : 330 | Train Loss : 0.0013633862836286426 | Test Loss: 4.838704990106635e-05\n",
      "Epochs : 340 | Train Loss : 0.0013633862836286426 | Test Loss: 4.838704990106635e-05\n",
      "Epochs : 350 | Train Loss : 0.0013633862836286426 | Test Loss: 4.838704990106635e-05\n",
      "Epochs : 360 | Train Loss : 0.0013633862836286426 | Test Loss: 4.838704990106635e-05\n",
      "Epochs : 370 | Train Loss : 0.0013633862836286426 | Test Loss: 4.838704990106635e-05\n",
      "Epochs : 380 | Train Loss : 0.0013633862836286426 | Test Loss: 4.838704990106635e-05\n",
      "Epochs : 390 | Train Loss : 0.0013633862836286426 | Test Loss: 4.838704990106635e-05\n"
     ]
    }
   ],
   "source": [
    "torch.manual_seed(42)\n",
    "epoch_count = []\n",
    "train_value_loss = []\n",
    "test_value_loss = []\n",
    "epochs = 400\n",
    "\n",
    "#Put data into the device\n",
    "x_train = x_train.to(device)\n",
    "y_train = y_train.to(device)\n",
    "x_test = x_test.to(device)\n",
    "y_test = y_test.to(device)\n",
    "\n",
    "for epoch in range(epochs):\n",
    "\n",
    "    model_1.train()\n",
    "    y_pred = model_1(x_train)\n",
    "    train_loss = loss_fn(y_pred, y_train)\n",
    "    optimizer.zero_grad()\n",
    "    train_loss.backward()\n",
    "    optimizer.step()\n",
    "\n",
    "    model_1.eval()\n",
    "    with torch.inference_mode():\n",
    "        test_pred = model_1(x_test)\n",
    "        test_loss = loss_fn(test_pred, y_test)\n",
    "    if epoch%10==0:\n",
    "        epoch_count.append(epoch)\n",
    "        train_value_loss.append(train_loss)\n",
    "        test_value_loss.append(test_loss)\n",
    "        print(f\"Epochs : {epoch} | Train Loss : {train_loss} | Test Loss: {test_loss}\")"
   ]
  },
  {
   "cell_type": "code",
   "execution_count": 23,
   "id": "ed58acba",
   "metadata": {},
   "outputs": [
    {
     "data": {
      "text/plain": [
       "OrderedDict([('linear_layer.weight', tensor([[0.8989]], device='cuda:0')),\n",
       "             ('linear_layer.bias', tensor([0.5995], device='cuda:0'))])"
      ]
     },
     "execution_count": 23,
     "metadata": {},
     "output_type": "execute_result"
    }
   ],
   "source": [
    "model_1.state_dict()"
   ]
  },
  {
   "cell_type": "code",
   "execution_count": 24,
   "id": "cc60facb",
   "metadata": {},
   "outputs": [
    {
     "data": {
      "text/plain": [
       "(0.9, 0.6)"
      ]
     },
     "execution_count": 24,
     "metadata": {},
     "output_type": "execute_result"
    }
   ],
   "source": [
    "weight, bias"
   ]
  },
  {
   "cell_type": "code",
   "execution_count": 25,
   "id": "19b5da40",
   "metadata": {},
   "outputs": [],
   "source": [
    "with torch.inference_mode():\n",
    "    y_preds_new = model_1(x_test)"
   ]
  },
  {
   "cell_type": "markdown",
   "id": "b646736f",
   "metadata": {},
   "source": [
    "8.13 hours"
   ]
  },
  {
   "cell_type": "code",
   "execution_count": 28,
   "id": "99df1545",
   "metadata": {},
   "outputs": [
    {
     "data": {
      "text/plain": [
       "tensor([[2.0377],\n",
       "        [2.0557],\n",
       "        [2.0737],\n",
       "        [2.0917],\n",
       "        [2.1097],\n",
       "        [2.1276],\n",
       "        [2.1456],\n",
       "        [2.1636],\n",
       "        [2.1816],\n",
       "        [2.1996],\n",
       "        [2.2175],\n",
       "        [2.2355],\n",
       "        [2.2535],\n",
       "        [2.2715],\n",
       "        [2.2894],\n",
       "        [2.3074],\n",
       "        [2.3254],\n",
       "        [2.3434],\n",
       "        [2.3614],\n",
       "        [2.3793]], device='cuda:0')"
      ]
     },
     "execution_count": 28,
     "metadata": {},
     "output_type": "execute_result"
    }
   ],
   "source": [
    "model_1.eval()\n",
    "with torch.inference_mode():\n",
    "    y_preds = model_1(x_test)\n",
    "y_preds"
   ]
  },
  {
   "cell_type": "code",
   "execution_count": 30,
   "id": "ed74f079",
   "metadata": {},
   "outputs": [
    {
     "data": {
      "image/png": "[encoded data removed]",
      "text/plain": [
       "<Figure size 1000x700 with 1 Axes>"
      ]
     },
     "metadata": {},
     "output_type": "display_data"
    }
   ],
   "source": [
    "plot_predictions(predictions=y_preds.cpu())"
   ]
  },
  {
   "cell_type": "markdown",
   "id": "cc79afcd",
   "metadata": {},
   "source": [
    "Saving and loding model"
   ]
  },
  {
   "cell_type": "code",
   "execution_count": 37,
   "id": "e03c824a",
   "metadata": {},
   "outputs": [
    {
     "name": "stdout",
     "output_type": "stream",
     "text": [
      "Model Path is : models/Regression_V2.pth\n"
     ]
    }
   ],
   "source": [
    "from pathlib import Path\n",
    "MODEL_PATH = Path(\"models\")\n",
    "MODEL_PATH.mkdir(parents=True, exist_ok = True)\n",
    "\n",
    "MODEL_NAME = \"Regression_V2.pth\"\n",
    "MODEL_SAVE_PATH = MODEL_PATH/MODEL_NAME\n",
    "\n",
    "print(f\"Model Path is : {MODEL_SAVE_PATH}\")\n",
    "torch.save(obj=model_1.state_dict(),\n",
    "           f=MODEL_SAVE_PATH)"
   ]
  },
  {
   "cell_type": "code",
   "execution_count": 38,
   "id": "2c43bc09",
   "metadata": {},
   "outputs": [
    {
     "data": {
      "text/plain": [
       "LinearRegressionModelV2(\n",
       "  (linear_layer): Linear(in_features=1, out_features=1, bias=True)\n",
       ")"
      ]
     },
     "execution_count": 38,
     "metadata": {},
     "output_type": "execute_result"
    }
   ],
   "source": [
    "loaded_model_1 = LinearRegressionModelV2()\n",
    "\n",
    "loaded_model_1.load_state_dict(torch.load(MODEL_SAVE_PATH))\n",
    "loaded_model_1.to(device)"
   ]
  },
  {
   "cell_type": "code",
   "execution_count": 39,
   "id": "85a3950e",
   "metadata": {},
   "outputs": [
    {
     "data": {
      "text/plain": [
       "device(type='cuda', index=0)"
      ]
     },
     "execution_count": 39,
     "metadata": {},
     "output_type": "execute_result"
    }
   ],
   "source": [
    "next(loaded_model_1.parameters()).device"
   ]
  },
  {
   "cell_type": "code",
   "execution_count": 40,
   "id": "03e61bd3",
   "metadata": {},
   "outputs": [
    {
     "data": {
      "text/plain": [
       "OrderedDict([('linear_layer.weight', tensor([[0.8989]], device='cuda:0')),\n",
       "             ('linear_layer.bias', tensor([0.5995], device='cuda:0'))])"
      ]
     },
     "execution_count": 40,
     "metadata": {},
     "output_type": "execute_result"
    }
   ],
   "source": [
    "loaded_model_1.state_dict()"
   ]
  },
  {
   "cell_type": "code",
   "execution_count": 41,
   "id": "d3fa7b8d",
   "metadata": {},
   "outputs": [
    {
     "data": {
      "text/plain": [
       "tensor([[2.0377],\n",
       "        [2.0557],\n",
       "        [2.0737],\n",
       "        [2.0917],\n",
       "        [2.1097],\n",
       "        [2.1276],\n",
       "        [2.1456],\n",
       "        [2.1636],\n",
       "        [2.1816],\n",
       "        [2.1996],\n",
       "        [2.2175],\n",
       "        [2.2355],\n",
       "        [2.2535],\n",
       "        [2.2715],\n",
       "        [2.2894],\n",
       "        [2.3074],\n",
       "        [2.3254],\n",
       "        [2.3434],\n",
       "        [2.3614],\n",
       "        [2.3793]], device='cuda:0')"
      ]
     },
     "execution_count": 41,
     "metadata": {},
     "output_type": "execute_result"
    }
   ],
   "source": [
    "loaded_model_1.eval()\n",
    "with torch.inference_mode():\n",
    "    y_pred_new = loaded_model_1(x_test)\n",
    "y_pred_new"
   ]
  },
  {
   "cell_type": "code",
   "execution_count": 44,
   "id": "e1df1d7a",
   "metadata": {},
   "outputs": [
    {
     "data": {
      "text/plain": [
       "tensor([[True],\n",
       "        [True],\n",
       "        [True],\n",
       "        [True],\n",
       "        [True],\n",
       "        [True],\n",
       "        [True],\n",
       "        [True],\n",
       "        [True],\n",
       "        [True],\n",
       "        [True],\n",
       "        [True],\n",
       "        [True],\n",
       "        [True],\n",
       "        [True],\n",
       "        [True],\n",
       "        [True],\n",
       "        [True],\n",
       "        [True],\n",
       "        [True]], device='cuda:0')"
      ]
     },
     "execution_count": 44,
     "metadata": {},
     "output_type": "execute_result"
    }
   ],
   "source": [
    "y_pred_new==y_preds"
   ]
  },
  {
   "cell_type": "code",
   "execution_count": 42,
   "id": "0b16a875",
   "metadata": {},
   "outputs": [
    {
     "data": {
      "image/png": "[encoded data removed]",
      "text/plain": [
       "<Figure size 1000x700 with 1 Axes>"
      ]
     },
     "metadata": {},
     "output_type": "display_data"
    }
   ],
   "source": [
    "plot_predictions(predictions=y_pred_new.cpu())"
   ]
  },
  {
   "cell_type": "markdown",
   "id": "5e6dbf47",
   "metadata": {},
   "source": [
    "completed 8.45 hours"
   ]
  }
 ],
 "metadata": {
  "kernelspec": {
   "display_name": "Python 3",
   "language": "python",
   "name": "python3"
  },
  "language_info": {
   "codemirror_mode": {
    "name": "ipython",
    "version": 3
   },
   "file_extension": ".py",
   "mimetype": "text/x-python",
   "name": "python",
   "nbconvert_exporter": "python",
   "pygments_lexer": "ipython3",
   "version": "3.13.3"
  }
 },
 "nbformat": 4,
 "nbformat_minor": 5
}

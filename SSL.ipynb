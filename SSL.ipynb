{
 "cells": [
  {
   "cell_type": "code",
   "execution_count": 1,
   "id": "9400e4d4",
   "metadata": {},
   "outputs": [],
   "source": [
    "import torch\n",
    "import torch.nn as nn\n",
    "import torchvision.transforms as transforms\n",
    "from torchvision.datasets import CIFAR10\n",
    "from torch.utils.data import DataLoader"
   ]
  },
  {
   "cell_type": "code",
   "execution_count": 2,
   "id": "cc1c8b63",
   "metadata": {},
   "outputs": [
    {
     "name": "stderr",
     "output_type": "stream",
     "text": [
      "100%|██████████| 170M/170M [04:15<00:00, 669kB/s]  \n"
     ]
    }
   ],
   "source": [
    "# Load dataset\n",
    "dataset = CIFAR10(root='/media/miju_chowdhury/Miju//Datasets', train=True, download=True, transform=transforms.ToTensor())\n",
    "dataloader = DataLoader(dataset, batch_size=10, shuffle=True)\n",
    "\n",
    "# Define a simple convolutional neural network\n",
    "class ConvNet(nn.Module):\n",
    "    def __init__(self):\n",
    "        super(ConvNet, self).__init__()\n",
    "        self.layer1 = nn.Conv2d(3, 16, 3, padding=1)  # Input channels, output channels, kernel size\n",
    "\n",
    "    def forward(self, x):\n",
    "        x = self.layer1(x)\n",
    "        return x\n",
    "\n",
    "# Initialize model\n",
    "model = ConvNet()\n",
    "\n",
    "# Example training loop (simplified)\n",
    "for images, _ in dataloader:\n",
    "    outputs = model(images)  # Forward pass\n",
    "    # Normally you would include a loss function and optimizer step here\n"
   ]
  },
  {
   "cell_type": "code",
   "execution_count": null,
   "id": "72d4013c",
   "metadata": {},
   "outputs": [],
   "source": []
  }
 ],
 "metadata": {
  "kernelspec": {
   "display_name": "Python 3",
   "language": "python",
   "name": "python3"
  },
  "language_info": {
   "codemirror_mode": {
    "name": "ipython",
    "version": 3
   },
   "file_extension": ".py",
   "mimetype": "text/x-python",
   "name": "python",
   "nbconvert_exporter": "python",
   "pygments_lexer": "ipython3",
   "version": "3.13.3"
  }
 },
 "nbformat": 4,
 "nbformat_minor": 5
}
